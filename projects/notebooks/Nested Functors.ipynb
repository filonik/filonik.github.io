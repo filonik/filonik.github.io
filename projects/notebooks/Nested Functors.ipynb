{
 "cells": [
  {
   "cell_type": "code",
   "execution_count": 1,
   "id": "59c2ae81",
   "metadata": {},
   "outputs": [
    {
     "data": {
      "text/plain": [
       "\u001b[32mimport \u001b[39m\u001b[36m$ivy.$                               \n",
       "\n",
       "\u001b[39m\n",
       "\u001b[32mimport \u001b[39m\u001b[36mcats._\n",
       "\u001b[39m\n",
       "\u001b[32mimport \u001b[39m\u001b[36mcats.syntax.all._\n",
       "\u001b[39m\n",
       "\u001b[32mimport \u001b[39m\u001b[36mcats.data.Nested\n",
       "\n",
       "\u001b[39m\n",
       "defined \u001b[32mextension methods\u001b[39m "
      ]
     },
     "execution_count": 1,
     "metadata": {},
     "output_type": "execute_result"
    }
   ],
   "source": [
    "import $ivy.`org.typelevel::cats-core:2.9.0`\n",
    "\n",
    "import cats._\n",
    "import cats.syntax.all._\n",
    "import cats.data.Nested\n",
    "\n",
    "extension [A](a: A) {\n",
    "  inline def |>[B](inline f: A => B): B = f(a)\n",
    "}"
   ]
  },
  {
   "cell_type": "code",
   "execution_count": 2,
   "id": "b0785f15",
   "metadata": {},
   "outputs": [
    {
     "data": {
      "text/plain": [
       "defined \u001b[32mclass\u001b[39m \u001b[36mV\u001b[39m\n",
       "defined \u001b[32mclass\u001b[39m \u001b[36mE\u001b[39m\n",
       "defined \u001b[32mclass\u001b[39m \u001b[36mG\u001b[39m"
      ]
     },
     "execution_count": 2,
     "metadata": {},
     "output_type": "execute_result"
    }
   ],
   "source": [
    "// \"Schema\"\n",
    "class V()\n",
    "class E(val src: V, val tgt: V)\n",
    "class G(val vs: List[V], val es: List[E])"
   ]
  },
  {
   "cell_type": "code",
   "execution_count": 3,
   "id": "9f2049b3",
   "metadata": {},
   "outputs": [
    {
     "data": {
      "text/plain": [
       "defined \u001b[32mobject\u001b[39m \u001b[36mOM\u001b[39m"
      ]
     },
     "execution_count": 3,
     "metadata": {},
     "output_type": "execute_result"
    }
   ],
   "source": [
    "// \"Outside-In\" Model\n",
    "object OM:\n",
    "    // Edge \"Attrs\"\n",
    "    def src(e: E): V = e.src \n",
    "    def tgt(e: E): V = e.tgt\n",
    "\n",
    "    // Graph \"Attrs\"\n",
    "    def vs(g: G): List[V] = g.vs \n",
    "    def es(g: G): List[E] = g.es\n",
    "\n",
    "    // Bundles \n",
    "    def outgoing(v: V)(using g: G): List[E] = g.es.filter(src(_) == v)\n",
    "    def incoming(v: V)(using g: G): List[E] = g.es.filter(tgt(_) == v)\n",
    "\n",
    "    // Spans\n",
    "    def oneighbors(v: V)(using g: G): List[V] = g.vs.filter(outgoing(v).map(tgt).contains(_))\n",
    "    def ineighbors(v: V)(using g: G): List[V] = g.vs.filter(incoming(v).map(src).contains(_))\n",
    "    def neighbors(v: V)(using g: G): List[V] = oneighbors(v) ++ ineighbors(v)\n",
    "\n",
    "    // Generic\n",
    "    def sum[A](using num: Numeric[A])(as: List[A]): A = as.sum\n",
    "    def size[A](as: List[A]): Int = as.size\n",
    "    def range(i: Int): List[Int] = List.range(0, i)"
   ]
  },
  {
   "cell_type": "code",
   "execution_count": 4,
   "id": "563aaf5e",
   "metadata": {},
   "outputs": [
    {
     "data": {
      "text/plain": [
       "defined \u001b[32mfunction\u001b[39m \u001b[36mfmap\u001b[39m"
      ]
     },
     "execution_count": 4,
     "metadata": {},
     "output_type": "execute_result"
    }
   ],
   "source": [
    "// Keeps nesting unchanged\n",
    "def fmap[A, B, F[_]](f: A => B)(using F: Functor[F]): (F[A]) => F[B] = \n",
    "    xs => xs map f"
   ]
  },
  {
   "cell_type": "code",
   "execution_count": 5,
   "id": "e281f882",
   "metadata": {},
   "outputs": [
    {
     "data": {
      "text/plain": [
       "defined \u001b[32mfunction\u001b[39m \u001b[36mpmap\u001b[39m"
      ]
     },
     "execution_count": 5,
     "metadata": {},
     "output_type": "execute_result"
    }
   ],
   "source": [
    "// Produces a layer of nesting\n",
    "def pmap[A, B, F[_], G[_]](f: A => G[B])(using F: Functor[F]): (F[A]) => Nested[F, G, B] = \n",
    "    xs => Nested(xs map f)"
   ]
  },
  {
   "cell_type": "code",
   "execution_count": 6,
   "id": "ef2d33f4",
   "metadata": {},
   "outputs": [
    {
     "data": {
      "text/plain": [
       "defined \u001b[32mfunction\u001b[39m \u001b[36mrmap\u001b[39m"
      ]
     },
     "execution_count": 6,
     "metadata": {},
     "output_type": "execute_result"
    }
   ],
   "source": [
    "// Reduces a layer of nesting\n",
    "def rmap[A, B, F[_], G[_]](f: G[A] => B)(using F: Functor[F]): (Nested[F, G, A]) => F[B] = \n",
    "    xs => xs.value map f"
   ]
  },
  {
   "cell_type": "code",
   "execution_count": 7,
   "id": "cdcd0958",
   "metadata": {},
   "outputs": [
    {
     "data": {
      "text/plain": [
       "defined \u001b[32mobject\u001b[39m \u001b[36mIM\u001b[39m"
      ]
     },
     "execution_count": 7,
     "metadata": {},
     "output_type": "execute_result"
    }
   ],
   "source": [
    "// \"Inside-Out\" Model\n",
    "object IM:\n",
    "    // Edge \"Attrs\"\n",
    "    def src[F[_]](fe: F[E])(using F: Functor[F]): F[V] = fmap(OM.src)(fe)\n",
    "    def tgt[F[_]](fe: F[E])(using F: Functor[F]): F[V] = fmap(OM.tgt)(fe)\n",
    "\n",
    "    // Graph \"Attrs\"\n",
    "    def vs[F[_]](fg: F[G])(using F: Functor[F]): Nested[F, List, V] = pmap(OM.vs)(fg)\n",
    "    def es[F[_]](fg: F[G])(using F: Functor[F]): Nested[F, List, E] = pmap(OM.es)(fg)\n",
    "\n",
    "    // Bundles\n",
    "    def outgoing[F[_]](fv: F[V])(using F: Functor[F])(using g: G): Nested[F, List, E] = pmap(OM.outgoing)(fv)\n",
    "    def incoming[F[_]](fv: F[V])(using F: Functor[F])(using g: G): Nested[F, List, E] = pmap(OM.incoming)(fv)\n",
    "\n",
    "    // Spans\n",
    "    def oneighbors[F[_]](fv: F[V])(using F: Functor[F])(using g: G): Nested[F, List, V] = pmap(OM.oneighbors)(fv)\n",
    "    def ineighbors[F[_]](fv: F[V])(using F: Functor[F])(using g: G): Nested[F, List, V] = pmap(OM.ineighbors)(fv)\n",
    "    def neighbors[F[_]](fv: F[V])(using F: Functor[F])(using g: G): Nested[F, List, V] = pmap(OM.neighbors)(fv)\n",
    "\n",
    "    // Generic\n",
    "    def sum[A, F[_]](fa: Nested[F, List, A])(using F: Functor[F])(using num: Numeric[A]): F[A] = rmap(OM.sum)(fa)\n",
    "    def size[A, F[_]](fa: Nested[F, List, A])(using F: Functor[F]): F[Int] = rmap[A,Int,F,List](OM.size)(fa)\n",
    "    def range[F[_]](fi: F[Int])(using F: Functor[F]): Nested[F, List, Int] = pmap(OM.range)(fi)"
   ]
  },
  {
   "cell_type": "code",
   "execution_count": 8,
   "id": "bfb00bc6",
   "metadata": {},
   "outputs": [
    {
     "data": {
      "text/plain": [
       "\u001b[36mv0\u001b[39m: \u001b[32mV\u001b[39m = ammonite.$sess.cmd1$Helper$V@584ccde4\n",
       "\u001b[36mv1\u001b[39m: \u001b[32mV\u001b[39m = ammonite.$sess.cmd1$Helper$V@4140e3cc\n",
       "\u001b[36mv2\u001b[39m: \u001b[32mV\u001b[39m = ammonite.$sess.cmd1$Helper$V@5a66922f\n",
       "\u001b[36me0\u001b[39m: \u001b[32mE\u001b[39m = ammonite.$sess.cmd1$Helper$E@71934025\n",
       "\u001b[36me1\u001b[39m: \u001b[32mE\u001b[39m = ammonite.$sess.cmd1$Helper$E@2f35bab1\n",
       "\u001b[36mg\u001b[39m: \u001b[32mG\u001b[39m = ammonite.$sess.cmd1$Helper$G@2f7059c3\n",
       "\u001b[36mglobal\u001b[39m: \u001b[32mG\u001b[39m = \u001b[32m<given>\u001b[39m"
      ]
     },
     "execution_count": 8,
     "metadata": {},
     "output_type": "execute_result"
    }
   ],
   "source": [
    "// \"Instance\"\n",
    "\n",
    "val v0 = V()\n",
    "val v1 = V()\n",
    "val v2 = V()\n",
    "val e0 = E(v0, v1)\n",
    "val e1 = E(v1, v2)\n",
    "\n",
    "val g = G(List(v0,v1,v2), List(e0,e1))\n",
    "\n",
    "given global: G = g"
   ]
  },
  {
   "cell_type": "markdown",
   "id": "714eb9a7",
   "metadata": {},
   "source": [
    "## \"Inside-Out\" Examples\n",
    "Nesting is implicitly managed by the type system."
   ]
  },
  {
   "cell_type": "code",
   "execution_count": 9,
   "id": "8a7eff78",
   "metadata": {},
   "outputs": [
    {
     "data": {
      "text/plain": [
       "\u001b[36mfg\u001b[39m: \u001b[32mList\u001b[39m[\u001b[32mG\u001b[39m] = \u001b[33mList\u001b[39m(ammonite.$sess.cmd1$Helper$G@2f7059c3)"
      ]
     },
     "execution_count": 9,
     "metadata": {},
     "output_type": "execute_result"
    }
   ],
   "source": [
    "val fg = List(g)"
   ]
  },
  {
   "cell_type": "code",
   "execution_count": 10,
   "id": "e734664b",
   "metadata": {},
   "outputs": [
    {
     "data": {
      "text/plain": [
       "\u001b[36mres9\u001b[39m: \u001b[32mNested\u001b[39m[\u001b[32mList\u001b[39m, \u001b[32mList\u001b[39m, \u001b[32mV\u001b[39m] = \u001b[33mNested\u001b[39m(\n",
       "  value = \u001b[33mList\u001b[39m(\n",
       "    \u001b[33mList\u001b[39m(\n",
       "      ammonite.$sess.cmd1$Helper$V@584ccde4,\n",
       "      ammonite.$sess.cmd1$Helper$V@4140e3cc,\n",
       "      ammonite.$sess.cmd1$Helper$V@5a66922f\n",
       "    )\n",
       "  )\n",
       ")"
      ]
     },
     "execution_count": 10,
     "metadata": {},
     "output_type": "execute_result"
    }
   ],
   "source": [
    "fg \n",
    "    |> IM.vs         // Produce \"List\""
   ]
  },
  {
   "cell_type": "code",
   "execution_count": 11,
   "id": "61c4d58b",
   "metadata": {},
   "outputs": [
    {
     "data": {
      "text/plain": [
       "\u001b[36mres10\u001b[39m: \u001b[32mNested\u001b[39m[_root_.cats.data.Nested[[A >: scala.Nothing <: scala.Any] => _root_.cats.data.Nested[scala.collection.immutable.List, scala.List, A], scala.List, ammonite.$sess.cmd6.wrapper.cmd1.V], \u001b[32mList\u001b[39m, \u001b[32mV\u001b[39m] = \u001b[33mNested\u001b[39m(\n",
       "  value = \u001b[33mNested\u001b[39m(\n",
       "    value = \u001b[33mList\u001b[39m(\n",
       "      \u001b[33mList\u001b[39m(\n",
       "        \u001b[33mList\u001b[39m(ammonite.$sess.cmd1$Helper$V@4140e3cc),\n",
       "        \u001b[33mList\u001b[39m(\n",
       "          ammonite.$sess.cmd1$Helper$V@5a66922f,\n",
       "          ammonite.$sess.cmd1$Helper$V@584ccde4\n",
       "        ),\n",
       "        \u001b[33mList\u001b[39m(ammonite.$sess.cmd1$Helper$V@4140e3cc)\n",
       "      )\n",
       "    )\n",
       "  )\n",
       ")"
      ]
     },
     "execution_count": 11,
     "metadata": {},
     "output_type": "execute_result"
    }
   ],
   "source": [
    "fg \n",
    "    |> IM.vs         // Produce \"List\"\n",
    "    |> IM.neighbors  // Produce \"List\""
   ]
  },
  {
   "cell_type": "code",
   "execution_count": 12,
   "id": "01dbbbdd",
   "metadata": {},
   "outputs": [
    {
     "data": {
      "text/plain": [
       "\u001b[36mres11\u001b[39m: \u001b[32mNested\u001b[39m[\u001b[32mList\u001b[39m, \u001b[32mList\u001b[39m, \u001b[32mInt\u001b[39m] = \u001b[33mNested\u001b[39m(value = \u001b[33mList\u001b[39m(\u001b[33mList\u001b[39m(\u001b[32m1\u001b[39m, \u001b[32m2\u001b[39m, \u001b[32m1\u001b[39m)))"
      ]
     },
     "execution_count": 12,
     "metadata": {},
     "output_type": "execute_result"
    }
   ],
   "source": [
    "fg \n",
    "    |> IM.vs         // Produce \"List\"\n",
    "    |> IM.neighbors  // Produce \"List\"\n",
    "    |> IM.size       // Reduce \"List\""
   ]
  },
  {
   "cell_type": "code",
   "execution_count": 13,
   "id": "bb9dac54",
   "metadata": {},
   "outputs": [
    {
     "data": {
      "text/plain": [
       "\u001b[36mres12\u001b[39m: \u001b[32mNested\u001b[39m[\u001b[32mList\u001b[39m, \u001b[32mList\u001b[39m, \u001b[32mInt\u001b[39m] = \u001b[33mNested\u001b[39m(value = \u001b[33mList\u001b[39m(\u001b[33mList\u001b[39m(\u001b[32m0\u001b[39m, \u001b[32m1\u001b[39m, \u001b[32m0\u001b[39m)))"
      ]
     },
     "execution_count": 13,
     "metadata": {},
     "output_type": "execute_result"
    }
   ],
   "source": [
    "fg \n",
    "    |> IM.vs         // Produce \"List\"\n",
    "    |> IM.neighbors  // Produce \"List\"\n",
    "    |> IM.size       // Reduce \"List\"\n",
    "    |> IM.range      // Produce \"List\"\n",
    "    |> IM.sum        // Reduce \"List\""
   ]
  },
  {
   "cell_type": "markdown",
   "id": "169ef9f4",
   "metadata": {},
   "source": [
    "## \"Outside-In\" Examples\n",
    "\n",
    "Nesting is explicitly managed by the user."
   ]
  },
  {
   "cell_type": "code",
   "execution_count": 14,
   "id": "8493e82b",
   "metadata": {},
   "outputs": [
    {
     "data": {
      "text/plain": [
       "\u001b[36mfg\u001b[39m: \u001b[32mList\u001b[39m[\u001b[32mG\u001b[39m] = \u001b[33mList\u001b[39m(ammonite.$sess.cmd1$Helper$G@2f7059c3)"
      ]
     },
     "execution_count": 14,
     "metadata": {},
     "output_type": "execute_result"
    }
   ],
   "source": [
    "val fg = List(g)"
   ]
  },
  {
   "cell_type": "code",
   "execution_count": 15,
   "id": "698f3e05",
   "metadata": {},
   "outputs": [
    {
     "data": {
      "text/plain": [
       "\u001b[36mres14\u001b[39m: \u001b[32mList\u001b[39m[\u001b[32mList\u001b[39m[\u001b[32mV\u001b[39m]] = \u001b[33mList\u001b[39m(\n",
       "  \u001b[33mList\u001b[39m(\n",
       "    ammonite.$sess.cmd1$Helper$V@584ccde4,\n",
       "    ammonite.$sess.cmd1$Helper$V@4140e3cc,\n",
       "    ammonite.$sess.cmd1$Helper$V@5a66922f\n",
       "  )\n",
       ")"
      ]
     },
     "execution_count": 15,
     "metadata": {},
     "output_type": "execute_result"
    }
   ],
   "source": [
    "fg \n",
    "    |> fmap(OM.vs)"
   ]
  },
  {
   "cell_type": "code",
   "execution_count": 16,
   "id": "3d01902f",
   "metadata": {},
   "outputs": [
    {
     "data": {
      "text/plain": [
       "\u001b[36mres15\u001b[39m: \u001b[32mList\u001b[39m[\u001b[32mList\u001b[39m[\u001b[32mList\u001b[39m[\u001b[32mV\u001b[39m]]] = \u001b[33mList\u001b[39m(\n",
       "  \u001b[33mList\u001b[39m(\n",
       "    \u001b[33mList\u001b[39m(ammonite.$sess.cmd1$Helper$V@4140e3cc),\n",
       "    \u001b[33mList\u001b[39m(\n",
       "      ammonite.$sess.cmd1$Helper$V@5a66922f,\n",
       "      ammonite.$sess.cmd1$Helper$V@584ccde4\n",
       "    ),\n",
       "    \u001b[33mList\u001b[39m(ammonite.$sess.cmd1$Helper$V@4140e3cc)\n",
       "  )\n",
       ")"
      ]
     },
     "execution_count": 16,
     "metadata": {},
     "output_type": "execute_result"
    }
   ],
   "source": [
    "fg \n",
    "    |> fmap(OM.vs)\n",
    "    |> fmap(fmap(OM.neighbors))"
   ]
  },
  {
   "cell_type": "code",
   "execution_count": 17,
   "id": "ce4dc51c",
   "metadata": {},
   "outputs": [
    {
     "data": {
      "text/plain": [
       "\u001b[36mres16\u001b[39m: \u001b[32mList\u001b[39m[\u001b[32mList\u001b[39m[\u001b[32mInt\u001b[39m]] = \u001b[33mList\u001b[39m(\u001b[33mList\u001b[39m(\u001b[32m1\u001b[39m, \u001b[32m2\u001b[39m, \u001b[32m1\u001b[39m))"
      ]
     },
     "execution_count": 17,
     "metadata": {},
     "output_type": "execute_result"
    }
   ],
   "source": [
    "fg \n",
    "    |> fmap(OM.vs)\n",
    "    |> fmap(fmap(OM.neighbors))\n",
    "    |> fmap(fmap(OM.size))"
   ]
  },
  {
   "cell_type": "code",
   "execution_count": 18,
   "id": "262fa3f2",
   "metadata": {},
   "outputs": [
    {
     "data": {
      "text/plain": [
       "\u001b[36mres17\u001b[39m: \u001b[32mList\u001b[39m[\u001b[32mList\u001b[39m[\u001b[32mInt\u001b[39m]] = \u001b[33mList\u001b[39m(\u001b[33mList\u001b[39m(\u001b[32m0\u001b[39m, \u001b[32m1\u001b[39m, \u001b[32m0\u001b[39m))"
      ]
     },
     "execution_count": 18,
     "metadata": {},
     "output_type": "execute_result"
    }
   ],
   "source": [
    "fg \n",
    "    |> fmap(OM.vs)\n",
    "    |> fmap(fmap(OM.neighbors))\n",
    "    |> fmap(fmap(OM.size))\n",
    "    |> fmap(fmap(OM.range))\n",
    "    |> fmap(fmap(OM.sum))"
   ]
  },
  {
   "cell_type": "code",
   "execution_count": null,
   "id": "b1c42e2d",
   "metadata": {},
   "outputs": [],
   "source": []
  }
 ],
 "metadata": {
  "kernelspec": {
   "display_name": "Scala",
   "language": "scala",
   "name": "scala"
  },
  "language_info": {
   "codemirror_mode": "text/x-scala",
   "file_extension": ".sc",
   "mimetype": "text/x-scala",
   "name": "scala",
   "nbconvert_exporter": "script",
   "version": "2.13.10"
  }
 },
 "nbformat": 4,
 "nbformat_minor": 5
}
