{
 "cells": [
  {
   "cell_type": "code",
   "execution_count": 1,
   "id": "4ba932c4",
   "metadata": {},
   "outputs": [
    {
     "data": {
      "text/plain": [
       "\u001b[32mimport \u001b[39m\u001b[36m$ivy.$                               \n",
       "\n",
       "\u001b[39m\n",
       "\u001b[32mimport \u001b[39m\u001b[36mcats._\n",
       "\u001b[39m\n",
       "\u001b[32mimport \u001b[39m\u001b[36mcats.syntax.all._\n",
       "\u001b[39m\n",
       "\u001b[32mimport \u001b[39m\u001b[36mcats.data.Nested\n",
       "\n",
       "\u001b[39m\n",
       "defined \u001b[32mextension methods\u001b[39m "
      ]
     },
     "execution_count": 1,
     "metadata": {},
     "output_type": "execute_result"
    }
   ],
   "source": [
    "import $ivy.`org.typelevel::cats-core:2.9.0`\n",
    "\n",
    "import cats._\n",
    "import cats.syntax.all._\n",
    "import cats.data.Nested\n",
    "\n",
    "extension [A](a: A) {\n",
    "  inline def |>[B](inline f: A => B): B = f(a)\n",
    "}"
   ]
  },
  {
   "cell_type": "code",
   "execution_count": 2,
   "id": "9d45be3f",
   "metadata": {},
   "outputs": [
    {
     "data": {
      "text/plain": [
       "defined \u001b[32mclass\u001b[39m \u001b[36mV\u001b[39m\n",
       "defined \u001b[32mclass\u001b[39m \u001b[36mE\u001b[39m\n",
       "defined \u001b[32mclass\u001b[39m \u001b[36mG\u001b[39m"
      ]
     },
     "execution_count": 2,
     "metadata": {},
     "output_type": "execute_result"
    }
   ],
   "source": [
    "// \"Schema\"\n",
    "class V()\n",
    "class E(val src: V, val tgt: V)\n",
    "class G(val vs: List[V], val es: List[E])"
   ]
  },
  {
   "cell_type": "code",
   "execution_count": 3,
   "id": "22ea027f",
   "metadata": {},
   "outputs": [
    {
     "data": {
      "text/plain": [
       "defined \u001b[32mobject\u001b[39m \u001b[36mQF\u001b[39m"
      ]
     },
     "execution_count": 3,
     "metadata": {},
     "output_type": "execute_result"
    }
   ],
   "source": [
    "// \"Flat\"\n",
    "object QF:\n",
    "    // Edge \"Attrs\"\n",
    "    def src(e: E): V = e.src \n",
    "    def tgt(e: E): V = e.tgt\n",
    "\n",
    "    // Graph \"Attrs\"\n",
    "    def vs(g: G): List[V] = g.vs \n",
    "    def es(g: G): List[E] = g.es\n",
    "\n",
    "    // Bundles \n",
    "    def outgoing(v: V)(using g: G): List[E] = g.es.filter(src(_) == v)\n",
    "    def incoming(v: V)(using g: G): List[E] = g.es.filter(tgt(_) == v)\n",
    "\n",
    "    // Spans\n",
    "    def oneighbors(v: V)(using g: G): List[V] = g.vs.filter(outgoing(v).map(tgt).contains(_))\n",
    "    def ineighbors(v: V)(using g: G): List[V] = g.vs.filter(incoming(v).map(src).contains(_))\n",
    "    def neighbors(v: V)(using g: G): List[V] = oneighbors(v) ++ ineighbors(v)\n",
    "\n",
    "    // Generic\n",
    "    def sum[A](using num: Numeric[A])(as: List[A]): A = as.sum\n",
    "    def size[A](as: List[A]): Int = as.size\n",
    "    def range(i: Int): List[Int] = List.range(0, i)"
   ]
  },
  {
   "cell_type": "code",
   "execution_count": 4,
   "id": "297ae9bb",
   "metadata": {},
   "outputs": [
    {
     "data": {
      "text/plain": [
       "defined \u001b[32mobject\u001b[39m \u001b[36mQN\u001b[39m"
      ]
     },
     "execution_count": 4,
     "metadata": {},
     "output_type": "execute_result"
    }
   ],
   "source": [
    "// \"Nested\"\n",
    "object QN:\n",
    "    // Edge \"Attrs\"\n",
    "    def src[F[_]](fe: F[E])(using F: Functor[F]): F[V] = fe map QF.src\n",
    "    def tgt[F[_]](fe: F[E])(using F: Functor[F]): F[V] = fe map QF.tgt\n",
    "\n",
    "    // Graph \"Attrs\"\n",
    "    def vs[F[_]](fg: F[G])(using F: Functor[F]): Nested[F, List, V] = Nested(fg map QF.vs)\n",
    "    def es[F[_]](fg: F[G])(using F: Functor[F]): Nested[F, List, E] = Nested(fg map QF.es)\n",
    "\n",
    "    // Bundles\n",
    "    def outgoing[F[_]](fv: F[V])(using g: G)(using F: Functor[F]): Nested[F, List, E] = Nested(fv map QF.outgoing)\n",
    "    def incoming[F[_]](fv: F[V])(using g: G)(using F: Functor[F]): Nested[F, List, E] = Nested(fv map QF.incoming)\n",
    "\n",
    "    // Spans\n",
    "    def oneighbors[F[_]](fv: F[V])(using g: G)(using F: Functor[F]): Nested[F, List, V] = Nested(fv map QF.oneighbors)\n",
    "    def ineighbors[F[_]](fv: F[V])(using g: G)(using F: Functor[F]): Nested[F, List, V] = Nested(fv map QF.ineighbors)\n",
    "    def neighbors[F[_]](fv: F[V])(using g: G)(using F: Functor[F]): Nested[F, List, V] = Nested(fv map QF.neighbors)\n",
    "\n",
    "    // Generic\n",
    "    def sum[A, F[_]](fas: Nested[F, List, A])(using F: Functor[F])(using num: Numeric[A]): F[A] = fas.value map (QF.sum)\n",
    "    def size[A, F[_]](fas: Nested[F, List, A])(using F: Functor[F]): F[Int] = fas.value map (QF.size)\n",
    "    def range[F[_]](fas: F[Int])(using F: Functor[F]): Nested[F, List, Int] = Nested(fas map (QF.range))"
   ]
  },
  {
   "cell_type": "code",
   "execution_count": 5,
   "id": "1241005d",
   "metadata": {},
   "outputs": [
    {
     "data": {
      "text/plain": [
       "\u001b[36mv0\u001b[39m: \u001b[32mV\u001b[39m = ammonite.$sess.cmd1$Helper$V@3b747aa5\n",
       "\u001b[36mv1\u001b[39m: \u001b[32mV\u001b[39m = ammonite.$sess.cmd1$Helper$V@68d4bc89\n",
       "\u001b[36mv2\u001b[39m: \u001b[32mV\u001b[39m = ammonite.$sess.cmd1$Helper$V@2a080882\n",
       "\u001b[36me0\u001b[39m: \u001b[32mE\u001b[39m = ammonite.$sess.cmd1$Helper$E@39c7758c\n",
       "\u001b[36me1\u001b[39m: \u001b[32mE\u001b[39m = ammonite.$sess.cmd1$Helper$E@6faa4aea\n",
       "\u001b[36mg\u001b[39m: \u001b[32mG\u001b[39m = ammonite.$sess.cmd1$Helper$G@4c23ee26\n",
       "\u001b[36mglobal\u001b[39m: \u001b[32mG\u001b[39m = \u001b[32m<given>\u001b[39m"
      ]
     },
     "execution_count": 5,
     "metadata": {},
     "output_type": "execute_result"
    }
   ],
   "source": [
    "// \"Instance\"\n",
    "\n",
    "val v0 = V()\n",
    "val v1 = V()\n",
    "val v2 = V()\n",
    "val e0 = E(v0, v1)\n",
    "val e1 = E(v1, v2)\n",
    "\n",
    "val g = G(List(v0,v1,v2), List(e0,e1))\n",
    "\n",
    "given global: G = g"
   ]
  },
  {
   "cell_type": "code",
   "execution_count": 6,
   "id": "27ae29af",
   "metadata": {},
   "outputs": [
    {
     "data": {
      "text/plain": [
       "\u001b[36mres5\u001b[39m: \u001b[32mString\u001b[39m = \u001b[32m\"ammonite.$sess.cmd1$Helper$E@39c7758c\"\u001b[39m"
      ]
     },
     "execution_count": 6,
     "metadata": {},
     "output_type": "execute_result"
    }
   ],
   "source": [
    "e0.toString"
   ]
  },
  {
   "cell_type": "code",
   "execution_count": 7,
   "id": "7a36553c",
   "metadata": {},
   "outputs": [
    {
     "data": {
      "text/plain": [
       "\u001b[36mfg\u001b[39m: \u001b[32mList\u001b[39m[\u001b[32mG\u001b[39m] = \u001b[33mList\u001b[39m(ammonite.$sess.cmd1$Helper$G@4c23ee26)"
      ]
     },
     "execution_count": 7,
     "metadata": {},
     "output_type": "execute_result"
    }
   ],
   "source": [
    "val fg = List(g)"
   ]
  },
  {
   "cell_type": "code",
   "execution_count": 8,
   "id": "7146e2ea",
   "metadata": {},
   "outputs": [
    {
     "data": {
      "text/plain": [
       "\u001b[36mres7\u001b[39m: \u001b[32mNested\u001b[39m[\u001b[32mList\u001b[39m, \u001b[32mList\u001b[39m, \u001b[32mV\u001b[39m] = \u001b[33mNested\u001b[39m(\n",
       "  value = \u001b[33mList\u001b[39m(\n",
       "    \u001b[33mList\u001b[39m(\n",
       "      ammonite.$sess.cmd1$Helper$V@3b747aa5,\n",
       "      ammonite.$sess.cmd1$Helper$V@68d4bc89,\n",
       "      ammonite.$sess.cmd1$Helper$V@2a080882\n",
       "    )\n",
       "  )\n",
       ")"
      ]
     },
     "execution_count": 8,
     "metadata": {},
     "output_type": "execute_result"
    }
   ],
   "source": [
    "fg \n",
    "    |> QN.vs         // Produce \"List\""
   ]
  },
  {
   "cell_type": "code",
   "execution_count": 9,
   "id": "bc7cac21",
   "metadata": {},
   "outputs": [
    {
     "data": {
      "text/plain": [
       "\u001b[36mres8\u001b[39m: \u001b[32mNested\u001b[39m[_root_.cats.data.Nested[[A >: scala.Nothing <: scala.Any] => _root_.cats.data.Nested[scala.collection.immutable.List, scala.List, A], scala.List, ammonite.$sess.cmd3.wrapper.cmd1.V], \u001b[32mList\u001b[39m, \u001b[32mV\u001b[39m] = \u001b[33mNested\u001b[39m(\n",
       "  value = \u001b[33mNested\u001b[39m(\n",
       "    value = \u001b[33mList\u001b[39m(\n",
       "      \u001b[33mList\u001b[39m(\n",
       "        \u001b[33mList\u001b[39m(ammonite.$sess.cmd1$Helper$V@68d4bc89),\n",
       "        \u001b[33mList\u001b[39m(\n",
       "          ammonite.$sess.cmd1$Helper$V@2a080882,\n",
       "          ammonite.$sess.cmd1$Helper$V@3b747aa5\n",
       "        ),\n",
       "        \u001b[33mList\u001b[39m(ammonite.$sess.cmd1$Helper$V@68d4bc89)\n",
       "      )\n",
       "    )\n",
       "  )\n",
       ")"
      ]
     },
     "execution_count": 9,
     "metadata": {},
     "output_type": "execute_result"
    }
   ],
   "source": [
    "fg \n",
    "    |> QN.vs         // Produce \"List\"\n",
    "    |> QN.neighbors  // Produce \"List\""
   ]
  },
  {
   "cell_type": "code",
   "execution_count": 10,
   "id": "f4961192",
   "metadata": {},
   "outputs": [
    {
     "data": {
      "text/plain": [
       "\u001b[36mres9\u001b[39m: \u001b[32mNested\u001b[39m[\u001b[32mList\u001b[39m, \u001b[32mList\u001b[39m, \u001b[32mInt\u001b[39m] = \u001b[33mNested\u001b[39m(value = \u001b[33mList\u001b[39m(\u001b[33mList\u001b[39m(\u001b[32m1\u001b[39m, \u001b[32m2\u001b[39m, \u001b[32m1\u001b[39m)))"
      ]
     },
     "execution_count": 10,
     "metadata": {},
     "output_type": "execute_result"
    }
   ],
   "source": [
    "fg \n",
    "    |> QN.vs         // Produce \"List\"\n",
    "    |> QN.neighbors  // Produce \"List\"\n",
    "    |> QN.size       // Reduce \"List\""
   ]
  },
  {
   "cell_type": "code",
   "execution_count": 11,
   "id": "60ab4a4b",
   "metadata": {},
   "outputs": [
    {
     "data": {
      "text/plain": [
       "\u001b[36mres10\u001b[39m: \u001b[32mNested\u001b[39m[\u001b[32mList\u001b[39m, \u001b[32mList\u001b[39m, \u001b[32mInt\u001b[39m] = \u001b[33mNested\u001b[39m(value = \u001b[33mList\u001b[39m(\u001b[33mList\u001b[39m(\u001b[32m0\u001b[39m, \u001b[32m1\u001b[39m, \u001b[32m0\u001b[39m)))"
      ]
     },
     "execution_count": 11,
     "metadata": {},
     "output_type": "execute_result"
    }
   ],
   "source": [
    "fg \n",
    "    |> QN.vs         // Produce \"List\"\n",
    "    |> QN.neighbors  // Produce \"List\"\n",
    "    |> QN.size       // Reduce \"List\"\n",
    "    |> QN.range      // Produce \"List\"\n",
    "    |> QN.sum        // Reduce \"List\""
   ]
  },
  {
   "cell_type": "code",
   "execution_count": null,
   "id": "edf95217",
   "metadata": {},
   "outputs": [],
   "source": []
  }
 ],
 "metadata": {
  "kernelspec": {
   "display_name": "Scala",
   "language": "scala",
   "name": "scala"
  },
  "language_info": {
   "codemirror_mode": "text/x-scala",
   "file_extension": ".sc",
   "mimetype": "text/x-scala",
   "name": "scala",
   "nbconvert_exporter": "script",
   "version": "2.13.10"
  }
 },
 "nbformat": 4,
 "nbformat_minor": 5
}
