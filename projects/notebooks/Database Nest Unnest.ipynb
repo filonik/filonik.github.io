{
 "cells": [
  {
   "cell_type": "markdown",
   "id": "a6fbe58f",
   "metadata": {},
   "source": [
    "## General Definitions"
   ]
  },
  {
   "cell_type": "code",
   "execution_count": 1,
   "id": "89daa5d9",
   "metadata": {},
   "outputs": [
    {
     "data": {
      "text/plain": [
       "defined \u001b[32mclass\u001b[39m \u001b[36mFix\u001b[39m\n",
       "defined \u001b[32mclass\u001b[39m \u001b[36mFix2\u001b[39m\n",
       "defined \u001b[32mtype\u001b[39m \u001b[36mId\u001b[39m"
      ]
     },
     "execution_count": 1,
     "metadata": {},
     "output_type": "execute_result"
    }
   ],
   "source": [
    "final case class Fix[F[_]](unFix: F[Fix[F]])\n",
    "// Fix[F[_]] = F[F[F[...]]]\n",
    "\n",
    "final case class Fix2[F[_,_],G[_,_]](unFix2: F[Fix2[F,G], Fix2[G,F]])\n",
    "// Fix2[F[_,_],G[_,_]] = F[\n",
    "//   F[F[...],G[...]]\n",
    "//   G[G[...],F[...]]\n",
    "// ]\n",
    "\n",
    "type Id = Int"
   ]
  },
  {
   "cell_type": "markdown",
   "id": "52379d81",
   "metadata": {},
   "source": [
    "## Non-recursive Example: Schema"
   ]
  },
  {
   "cell_type": "code",
   "execution_count": 2,
   "id": "c12950a6",
   "metadata": {},
   "outputs": [
    {
     "data": {
      "text/plain": [
       "defined \u001b[32mtrait\u001b[39m \u001b[36mOb\u001b[39m\n",
       "defined \u001b[32mtrait\u001b[39m \u001b[36mHom\u001b[39m\n",
       "defined \u001b[32mclass\u001b[39m \u001b[36mEntityType\u001b[39m\n",
       "defined \u001b[32mclass\u001b[39m \u001b[36mAttributeType\u001b[39m\n",
       "defined \u001b[32mclass\u001b[39m \u001b[36mRelationship\u001b[39m\n",
       "defined \u001b[32mclass\u001b[39m \u001b[36mAttribute\u001b[39m\n",
       "defined \u001b[32mclass\u001b[39m \u001b[36mDatabase\u001b[39m"
      ]
     },
     "execution_count": 2,
     "metadata": {},
     "output_type": "execute_result"
    }
   ],
   "source": [
    "sealed trait Ob:\n",
    "  val id: Id\n",
    "  var name: String\n",
    "\n",
    "sealed trait Hom[TSrc,TTgt]:\n",
    "  val id: Id\n",
    "  var name: String\n",
    "  var src: TSrc\n",
    "  var tgt: TTgt\n",
    "\n",
    "case class EntityType(\n",
    "  val id: Id,\n",
    "  var name: String,\n",
    ") extends Ob\n",
    "\n",
    "case class AttributeType(\n",
    "  val id: Id,\n",
    "  var name: String,\n",
    ") extends Ob\n",
    "\n",
    "case class Relationship[TSrc,TTgt](\n",
    "  val id: Id,\n",
    "  var name: String,\n",
    "  var src: TSrc,\n",
    "  var tgt: TTgt,\n",
    ") extends Hom[TSrc,TTgt]\n",
    "\n",
    "case class Attribute[TSrc,TTgt](\n",
    "  val id: Id,\n",
    "  var name: String,\n",
    "  var src: TSrc,\n",
    "  var tgt: TTgt,\n",
    ") extends Hom[TSrc,TTgt]\n",
    "\n",
    "case class Database[TEntityType, TAttributeType, TRelationship, TAttribute](\n",
    "  val entityTypes: Seq[TEntityType],\n",
    "  val attributeTypes: Seq[TAttributeType],\n",
    "  val relationships: Seq[TRelationship],\n",
    "  val attributes: Seq[TAttribute],\n",
    ")"
   ]
  },
  {
   "cell_type": "code",
   "execution_count": 3,
   "id": "df96c553",
   "metadata": {},
   "outputs": [
    {
     "data": {
      "text/plain": [
       "defined \u001b[32mtype\u001b[39m \u001b[36mDBF\u001b[39m\n",
       "defined \u001b[32mtype\u001b[39m \u001b[36mDBN\u001b[39m\n",
       "defined \u001b[32mfunction\u001b[39m \u001b[36mnest\u001b[39m\n",
       "defined \u001b[32mfunction\u001b[39m \u001b[36munnest\u001b[39m"
      ]
     },
     "execution_count": 3,
     "metadata": {},
     "output_type": "execute_result"
    }
   ],
   "source": [
    "type DBF = Database[\n",
    "    EntityType,\n",
    "    AttributeType,\n",
    "    Relationship[Id, Id],\n",
    "    Attribute[Id, Id]\n",
    "]\n",
    "type DBN = Database[\n",
    "    EntityType,\n",
    "    AttributeType,\n",
    "    Relationship[EntityType, EntityType],\n",
    "    Attribute[EntityType, AttributeType]\n",
    "]\n",
    "def nest(db: DBF): DBN =\n",
    "  def nestRelationships(relationships: Seq[Relationship[Id, Id]]): Seq[Relationship[EntityType, EntityType]] = \n",
    "    relationships.map(relationship => relationship.copy(\n",
    "      src=db.entityTypes.find(_.id == relationship.src).get,\n",
    "      tgt=db.entityTypes.find(_.id == relationship.tgt).get,\n",
    "    ))\n",
    "  def nestAttributes(attributes: Seq[Attribute[Id, Id]]): Seq[Attribute[EntityType, AttributeType]] = \n",
    "    attributes.map(attribute => attribute.copy(\n",
    "      src=db.entityTypes.find(_.id == attribute.src).get,\n",
    "      tgt=db.attributeTypes.find(_.id == attribute.tgt).get,\n",
    "    ))\n",
    "  db.copy(\n",
    "    relationships=nestRelationships(db.relationships),\n",
    "    attributes=nestAttributes(db.attributes),\n",
    "  )\n",
    "def unnest(db: DBN): DBF =\n",
    "  def unnestRelationships(relationships: Seq[Relationship[EntityType, EntityType]]): Seq[Relationship[Id, Id]] = \n",
    "    relationships.map(relationship => relationship.copy(\n",
    "      src=relationship.src.id,\n",
    "      tgt=relationship.tgt.id,\n",
    "    ))\n",
    "  def unnestAttributes(attributes: Seq[Attribute[EntityType, AttributeType]]): Seq[Attribute[Id, Id]] = \n",
    "    attributes.map(attribute => attribute.copy(\n",
    "      src=attribute.src.id,\n",
    "      tgt=attribute.tgt.id,\n",
    "    ))\n",
    "  db.copy(\n",
    "    relationships=unnestRelationships(db.relationships),\n",
    "    attributes=unnestAttributes(db.attributes),\n",
    "  )"
   ]
  },
  {
   "cell_type": "code",
   "execution_count": 4,
   "id": "aebc033a",
   "metadata": {},
   "outputs": [
    {
     "data": {
      "text/plain": [
       "\u001b[36mdbf\u001b[39m: \u001b[32mDatabase\u001b[39m[\u001b[32mEntityType\u001b[39m, \u001b[32mAttributeType\u001b[39m, \u001b[32mRelationship\u001b[39m[\u001b[32mInt\u001b[39m, \u001b[32mInt\u001b[39m], \u001b[32mAttribute\u001b[39m[\u001b[32mInt\u001b[39m, \u001b[32mInt\u001b[39m]] = \u001b[33mDatabase\u001b[39m(\n",
       "  entityTypes = \u001b[33mList\u001b[39m(\n",
       "    \u001b[33mEntityType\u001b[39m(id = \u001b[32m0\u001b[39m, name = \u001b[32m\"E\"\u001b[39m),\n",
       "    \u001b[33mEntityType\u001b[39m(id = \u001b[32m1\u001b[39m, name = \u001b[32m\"V\"\u001b[39m)\n",
       "  ),\n",
       "  attributeTypes = \u001b[33mList\u001b[39m(\u001b[33mAttributeType\u001b[39m(id = \u001b[32m0\u001b[39m, name = \u001b[32m\"Number\"\u001b[39m)),\n",
       "  relationships = \u001b[33mList\u001b[39m(\n",
       "    \u001b[33mRelationship\u001b[39m(id = \u001b[32m0\u001b[39m, name = \u001b[32m\"src\"\u001b[39m, src = \u001b[32m0\u001b[39m, tgt = \u001b[32m1\u001b[39m),\n",
       "    \u001b[33mRelationship\u001b[39m(id = \u001b[32m0\u001b[39m, name = \u001b[32m\"tgt\"\u001b[39m, src = \u001b[32m0\u001b[39m, tgt = \u001b[32m1\u001b[39m)\n",
       "  ),\n",
       "  attributes = \u001b[33mList\u001b[39m(\u001b[33mAttribute\u001b[39m(id = \u001b[32m0\u001b[39m, name = \u001b[32m\"weight\"\u001b[39m, src = \u001b[32m0\u001b[39m, tgt = \u001b[32m0\u001b[39m))\n",
       ")"
      ]
     },
     "execution_count": 4,
     "metadata": {},
     "output_type": "execute_result"
    }
   ],
   "source": [
    "val dbf = Database(\n",
    "  Seq(EntityType(0, \"E\"), EntityType(1, \"V\")),\n",
    "  Seq(AttributeType(0, \"Number\")),\n",
    "  Seq(Relationship(0, \"src\", 0, 1), Relationship(0, \"tgt\", 0, 1)),\n",
    "  Seq(Attribute(0, \"weight\", 0, 0)),\n",
    ")"
   ]
  },
  {
   "cell_type": "code",
   "execution_count": 5,
   "id": "c89d1187",
   "metadata": {},
   "outputs": [
    {
     "data": {
      "text/plain": [
       "\u001b[36mdbn\u001b[39m: \u001b[32mDatabase\u001b[39m[\u001b[32mEntityType\u001b[39m, \u001b[32mAttributeType\u001b[39m, \u001b[32mRelationship\u001b[39m[\u001b[32mEntityType\u001b[39m, \u001b[32mEntityType\u001b[39m], \u001b[32mAttribute\u001b[39m[\u001b[32mEntityType\u001b[39m, \u001b[32mAttributeType\u001b[39m]] = \u001b[33mDatabase\u001b[39m(\n",
       "  entityTypes = \u001b[33mList\u001b[39m(\n",
       "    \u001b[33mEntityType\u001b[39m(id = \u001b[32m0\u001b[39m, name = \u001b[32m\"E\"\u001b[39m),\n",
       "    \u001b[33mEntityType\u001b[39m(id = \u001b[32m1\u001b[39m, name = \u001b[32m\"V\"\u001b[39m)\n",
       "  ),\n",
       "  attributeTypes = \u001b[33mList\u001b[39m(\u001b[33mAttributeType\u001b[39m(id = \u001b[32m0\u001b[39m, name = \u001b[32m\"Number\"\u001b[39m)),\n",
       "  relationships = \u001b[33mList\u001b[39m(\n",
       "    \u001b[33mRelationship\u001b[39m(\n",
       "      id = \u001b[32m0\u001b[39m,\n",
       "      name = \u001b[32m\"src\"\u001b[39m,\n",
       "      src = \u001b[33mEntityType\u001b[39m(id = \u001b[32m0\u001b[39m, name = \u001b[32m\"E\"\u001b[39m),\n",
       "      tgt = \u001b[33mEntityType\u001b[39m(id = \u001b[32m1\u001b[39m, name = \u001b[32m\"V\"\u001b[39m)\n",
       "    ),\n",
       "    \u001b[33mRelationship\u001b[39m(\n",
       "      id = \u001b[32m0\u001b[39m,\n",
       "      name = \u001b[32m\"tgt\"\u001b[39m,\n",
       "      src = \u001b[33mEntityType\u001b[39m(id = \u001b[32m0\u001b[39m, name = \u001b[32m\"E\"\u001b[39m),\n",
       "      tgt = \u001b[33mEntityType\u001b[39m(id = \u001b[32m1\u001b[39m, name = \u001b[32m\"V\"\u001b[39m)\n",
       "    )\n",
       "  ),\n",
       "  attributes = \u001b[33mList\u001b[39m(\n",
       "    \u001b[33mAttribute\u001b[39m(\n",
       "      id = \u001b[32m0\u001b[39m,\n",
       "      name = \u001b[32m\"weight\"\u001b[39m,\n",
       "      src = \u001b[33mEntityType\u001b[39m(id = \u001b[32m0\u001b[39m, name = \u001b[32m\"E\"\u001b[39m),\n",
       "      tgt = \u001b[33mAttributeType\u001b[39m(id = \u001b[32m0\u001b[39m, name = \u001b[32m\"Number\"\u001b[39m)\n",
       "    )\n",
       "  )\n",
       ")"
      ]
     },
     "execution_count": 5,
     "metadata": {},
     "output_type": "execute_result"
    }
   ],
   "source": [
    "val dbn = nest(dbf)"
   ]
  },
  {
   "cell_type": "code",
   "execution_count": 6,
   "id": "474bcca8",
   "metadata": {},
   "outputs": [
    {
     "data": {
      "text/plain": [
       "\u001b[36ma\u001b[39m: \u001b[32mAttribute\u001b[39m[\u001b[32mEntityType\u001b[39m, \u001b[32mAttributeType\u001b[39m] = \u001b[33mAttribute\u001b[39m(\n",
       "  id = \u001b[32m0\u001b[39m,\n",
       "  name = \u001b[32m\"weight\"\u001b[39m,\n",
       "  src = \u001b[33mEntityType\u001b[39m(id = \u001b[32m0\u001b[39m, name = \u001b[32m\"E\"\u001b[39m),\n",
       "  tgt = \u001b[33mAttributeType\u001b[39m(id = \u001b[32m0\u001b[39m, name = \u001b[32m\"Number\"\u001b[39m)\n",
       ")\n",
       "\u001b[36mres5_1\u001b[39m: \u001b[32mString\u001b[39m = \u001b[32m\"weight :: E -> Number\"\u001b[39m"
      ]
     },
     "execution_count": 6,
     "metadata": {},
     "output_type": "execute_result"
    }
   ],
   "source": [
    "val a = dbn.attributes(0)\n",
    "s\"${a.name} :: ${a.src.name} -> ${a.tgt.name}\""
   ]
  },
  {
   "cell_type": "code",
   "execution_count": 7,
   "id": "c633914f",
   "metadata": {},
   "outputs": [],
   "source": [
    "a.tgt.name = \"Float32\""
   ]
  },
  {
   "cell_type": "code",
   "execution_count": 8,
   "id": "10fc8887",
   "metadata": {},
   "outputs": [
    {
     "data": {
      "text/plain": [
       "\u001b[36mres7\u001b[39m: \u001b[32mDatabase\u001b[39m[\u001b[32mEntityType\u001b[39m, \u001b[32mAttributeType\u001b[39m, \u001b[32mRelationship\u001b[39m[\u001b[32mId\u001b[39m, \u001b[32mId\u001b[39m], \u001b[32mAttribute\u001b[39m[\u001b[32mId\u001b[39m, \u001b[32mId\u001b[39m]] = \u001b[33mDatabase\u001b[39m(\n",
       "  entityTypes = \u001b[33mList\u001b[39m(\n",
       "    \u001b[33mEntityType\u001b[39m(id = \u001b[32m0\u001b[39m, name = \u001b[32m\"E\"\u001b[39m),\n",
       "    \u001b[33mEntityType\u001b[39m(id = \u001b[32m1\u001b[39m, name = \u001b[32m\"V\"\u001b[39m)\n",
       "  ),\n",
       "  attributeTypes = \u001b[33mList\u001b[39m(\u001b[33mAttributeType\u001b[39m(id = \u001b[32m0\u001b[39m, name = \u001b[32m\"Float32\"\u001b[39m)),\n",
       "  relationships = \u001b[33mList\u001b[39m(\n",
       "    \u001b[33mRelationship\u001b[39m(id = \u001b[32m0\u001b[39m, name = \u001b[32m\"src\"\u001b[39m, src = \u001b[32m0\u001b[39m, tgt = \u001b[32m1\u001b[39m),\n",
       "    \u001b[33mRelationship\u001b[39m(id = \u001b[32m0\u001b[39m, name = \u001b[32m\"tgt\"\u001b[39m, src = \u001b[32m0\u001b[39m, tgt = \u001b[32m1\u001b[39m)\n",
       "  ),\n",
       "  attributes = \u001b[33mList\u001b[39m(\u001b[33mAttribute\u001b[39m(id = \u001b[32m0\u001b[39m, name = \u001b[32m\"weight\"\u001b[39m, src = \u001b[32m0\u001b[39m, tgt = \u001b[32m0\u001b[39m))\n",
       ")"
      ]
     },
     "execution_count": 8,
     "metadata": {},
     "output_type": "execute_result"
    }
   ],
   "source": [
    "unnest(dbn)"
   ]
  },
  {
   "cell_type": "markdown",
   "id": "a3e58ba8",
   "metadata": {},
   "source": [
    "## Recursive Example: Nodes with parent foreign key/reference."
   ]
  },
  {
   "cell_type": "markdown",
   "id": "295be3b8",
   "metadata": {},
   "source": [
    "Types and recursion scheme/fixpoint boilerplate."
   ]
  },
  {
   "cell_type": "code",
   "execution_count": 9,
   "id": "e2461e33",
   "metadata": {},
   "outputs": [
    {
     "data": {
      "text/plain": [
       "defined \u001b[32mclass\u001b[39m \u001b[36mNodeF\u001b[39m\n",
       "defined \u001b[32mtype\u001b[39m \u001b[36mNode\u001b[39m\n",
       "defined \u001b[32mobject\u001b[39m \u001b[36mNode\u001b[39m\n",
       "defined \u001b[32mclass\u001b[39m \u001b[36mDatabase\u001b[39m"
      ]
     },
     "execution_count": 9,
     "metadata": {},
     "output_type": "execute_result"
    }
   ],
   "source": [
    "case class NodeF[TValue, TParent](\n",
    "  val id: Id,\n",
    "  var parent: TParent,\n",
    "  var value: TValue,\n",
    ")\n",
    "\n",
    "type Node[TValue] = Fix[[TParent] =>> NodeF[TValue, TParent]]\n",
    "\n",
    "object Node:\n",
    "  def apply[TValue](id: Id, parent: Node[TValue], value: TValue): Node[TValue] =\n",
    "    Fix(NodeF(id, parent, value))\n",
    "\n",
    "case class Database[TNode](\n",
    "  val nodes: Seq[TNode],\n",
    ")"
   ]
  },
  {
   "cell_type": "markdown",
   "id": "e5247d99",
   "metadata": {},
   "source": [
    "Convert between unnested and nested representation:"
   ]
  },
  {
   "cell_type": "code",
   "execution_count": 10,
   "id": "48b59b27",
   "metadata": {},
   "outputs": [
    {
     "data": {
      "text/plain": [
       "defined \u001b[32mtype\u001b[39m \u001b[36mDBF\u001b[39m\n",
       "defined \u001b[32mtype\u001b[39m \u001b[36mDBN\u001b[39m\n",
       "defined \u001b[32mfunction\u001b[39m \u001b[36mnest\u001b[39m\n",
       "defined \u001b[32mfunction\u001b[39m \u001b[36munnest\u001b[39m"
      ]
     },
     "execution_count": 10,
     "metadata": {},
     "output_type": "execute_result"
    }
   ],
   "source": [
    "type DBF = [TValue] =>> Database[\n",
    "  NodeF[TValue, Id]\n",
    "]\n",
    "type DBN = [TValue] =>> Database[\n",
    "  Node[TValue]\n",
    "]\n",
    "\n",
    "def nest[TValue](db: DBF[TValue]): DBN[TValue] =\n",
    "  def nestParent[TValue](nodes: Seq[NodeF[TValue, Id]]): Seq[Node[TValue]] = \n",
    "    val cache = Map.from(nodes.map(node => \n",
    "      (node.id, Fix(node.copy(parent=null)))\n",
    "    ))\n",
    "    nodes.map(node => {\n",
    "      val Fix(nodeF) = cache(node.id)\n",
    "      nodeF.parent = cache(node.parent)\n",
    "      Fix(nodeF)\n",
    "    })\n",
    "  db.copy(nodes=nestParent(db.nodes))\n",
    "\n",
    "def unnest[TValue](db: DBN[TValue]): DBF[TValue] =\n",
    "  def unnestParent[TValue](nodes: Seq[Node[TValue]]): Seq[NodeF[TValue, Id]] =\n",
    "    nodes.map(node => \n",
    "      val Fix(nodeF) = node\n",
    "      val Fix(parentF) = nodeF.parent\n",
    "      nodeF.copy(parent=parentF.id)\n",
    "    )\n",
    "  db.copy(nodes=unnestParent(db.nodes))"
   ]
  },
  {
   "cell_type": "markdown",
   "id": "b5627a28",
   "metadata": {},
   "source": [
    "Flat representation:"
   ]
  },
  {
   "cell_type": "code",
   "execution_count": 11,
   "id": "a7e65154",
   "metadata": {},
   "outputs": [
    {
     "data": {
      "text/plain": [
       "\u001b[36mdbf\u001b[39m: \u001b[32mDatabase\u001b[39m[\u001b[32mNodeF\u001b[39m[\u001b[32mString\u001b[39m, \u001b[32mInt\u001b[39m]] = \u001b[33mDatabase\u001b[39m(\n",
       "  nodes = \u001b[33mList\u001b[39m(\n",
       "    \u001b[33mNodeF\u001b[39m(id = \u001b[32m0\u001b[39m, parent = \u001b[32m0\u001b[39m, value = \u001b[32m\"Root\"\u001b[39m),\n",
       "    \u001b[33mNodeF\u001b[39m(id = \u001b[32m1\u001b[39m, parent = \u001b[32m0\u001b[39m, value = \u001b[32m\"A\"\u001b[39m),\n",
       "    \u001b[33mNodeF\u001b[39m(id = \u001b[32m2\u001b[39m, parent = \u001b[32m1\u001b[39m, value = \u001b[32m\"A-1\"\u001b[39m),\n",
       "    \u001b[33mNodeF\u001b[39m(id = \u001b[32m3\u001b[39m, parent = \u001b[32m2\u001b[39m, value = \u001b[32m\"A-2\"\u001b[39m),\n",
       "    \u001b[33mNodeF\u001b[39m(id = \u001b[32m4\u001b[39m, parent = \u001b[32m0\u001b[39m, value = \u001b[32m\"B\"\u001b[39m)\n",
       "  )\n",
       ")"
      ]
     },
     "execution_count": 11,
     "metadata": {},
     "output_type": "execute_result"
    }
   ],
   "source": [
    "val dbf = Database(Seq(\n",
    "  NodeF(0, 0, \"Root\"),\n",
    "  NodeF(1, 0, \"A\"),\n",
    "  NodeF(2, 1, \"A-1\"),\n",
    "  NodeF(3, 2, \"A-2\"),\n",
    "  NodeF(4, 0, \"B\")\n",
    "))"
   ]
  },
  {
   "cell_type": "markdown",
   "id": "74c2bc72",
   "metadata": {},
   "source": [
    "Nested representation:"
   ]
  },
  {
   "cell_type": "code",
   "execution_count": 12,
   "id": "91e951d5",
   "metadata": {
    "scrolled": true
   },
   "outputs": [
    {
     "data": {
      "text/plain": [
       "\u001b[36mdbn\u001b[39m: \u001b[32mDatabase\u001b[39m[\u001b[32mNode\u001b[39m[\u001b[32mString\u001b[39m]] = \u001b[33mDatabase\u001b[39m(\n",
       "  nodes = \u001b[33mList\u001b[39m(\n",
       "    \u001b[33mFix\u001b[39m(\n",
       "      unFix = \u001b[33mNodeF\u001b[39m(\n",
       "        id = \u001b[32m0\u001b[39m,\n",
       "        parent = \u001b[33mFix\u001b[39m(\n",
       "          unFix = \u001b[33mNodeF\u001b[39m(\n",
       "            id = \u001b[32m0\u001b[39m,\n",
       "            parent = \u001b[33mFix\u001b[39m(\n",
       "              unFix = \u001b[33mNodeF\u001b[39m(\n",
       "                id = \u001b[32m0\u001b[39m,\n",
       "                parent = \u001b[33mFix\u001b[39m(\n",
       "                  unFix = \u001b[33mNodeF\u001b[39m(\n",
       "                    id = \u001b[32m0\u001b[39m,\n",
       "                    parent = \u001b[33mFix\u001b[39m(\n",
       "                      unFix = \u001b[33mNodeF\u001b[39m(\n",
       "                        id = \u001b[32m0\u001b[39m,\n",
       "                        parent = \u001b[33mFix\u001b[39m(\n",
       "                          unFix = \u001b[33mNodeF\u001b[39m(\n",
       "                            id = \u001b[32m0\u001b[39m,\n",
       "                            parent = \u001b[33mFix\u001b[39m(\n",
       "                              unFix = \u001b[33mNodeF\u001b[39m(\n",
       "                                id = \u001b[32m0\u001b[39m,\n",
       "                                parent = \u001b[33mFix\u001b[39m(\n",
       "                                  unFix = \u001b[33mNodeF\u001b[39m(\n",
       "                                    id = \u001b[32m0\u001b[39m,\n",
       "                                    parent = \u001b[33mFix\u001b[39m(\n",
       "                                      unFix = \u001b[33mNodeF\u001b[39m(\n",
       "                                        id = \u001b[32m0\u001b[39m,\n",
       "                                        parent = \u001b[33mFix\u001b[39m(\n",
       "                                          unFix = \u001b[33mNodeF\u001b[39m(\n",
       "                                            id = \u001b[32m0\u001b[39m,\n",
       "                                            parent = \u001b[33mFix\u001b[39m(\n",
       "                                              unFix = \u001b[33mNodeF\u001b[39m(\n",
       "                                                id = \u001b[32m0\u001b[39m,\n",
       "                                                parent = \u001b[33mFix\u001b[39m(\n",
       "                                                  unFix = \u001b[33mNodeF\u001b[39m(\n",
       "                                                    id = \u001b[32m0\u001b[39m,\n",
       "                                                    parent = \u001b[33mFix\u001b[39m(\n",
       "..."
      ]
     },
     "execution_count": 12,
     "metadata": {},
     "output_type": "execute_result"
    }
   ],
   "source": [
    "val dbn = nest(dbf)"
   ]
  },
  {
   "cell_type": "markdown",
   "id": "6c837661",
   "metadata": {},
   "source": [
    "Work with nested representation:"
   ]
  },
  {
   "cell_type": "code",
   "execution_count": 13,
   "id": "05ce14a6",
   "metadata": {},
   "outputs": [
    {
     "data": {
      "text/plain": [
       "defined \u001b[32mfunction\u001b[39m \u001b[36mpath\u001b[39m"
      ]
     },
     "execution_count": 13,
     "metadata": {},
     "output_type": "execute_result"
    }
   ],
   "source": [
    "def path[TValue](node: Node[TValue]): Seq[TValue] = \n",
    "  val Fix(nodeF) = node\n",
    "  val Fix(parentF) = nodeF.parent\n",
    "  val parentPath = if nodeF.id == parentF.id then Nil else path(nodeF.parent)\n",
    "  parentPath :+ nodeF.value"
   ]
  },
  {
   "cell_type": "code",
   "execution_count": 14,
   "id": "5de6f556",
   "metadata": {},
   "outputs": [
    {
     "data": {
      "text/plain": [
       "\u001b[36mres13\u001b[39m: \u001b[32mSeq\u001b[39m[\u001b[32mString\u001b[39m] = \u001b[33mList\u001b[39m(\u001b[32m\"Root\"\u001b[39m, \u001b[32m\"A\"\u001b[39m, \u001b[32m\"A-1\"\u001b[39m)"
      ]
     },
     "execution_count": 14,
     "metadata": {},
     "output_type": "execute_result"
    }
   ],
   "source": [
    "path(dbn.nodes(2))"
   ]
  },
  {
   "cell_type": "markdown",
   "id": "8f9004b0",
   "metadata": {},
   "source": [
    "Updated nested representation:"
   ]
  },
  {
   "cell_type": "code",
   "execution_count": 15,
   "id": "024714a5",
   "metadata": {},
   "outputs": [
    {
     "data": {
      "text/plain": [
       "\u001b[36mdbn2\u001b[39m: \u001b[32mDatabase\u001b[39m[\u001b[32mFix\u001b[39m[ammonite.$sess.cmd9.wrapper.cmd8.Database[ammonite.$sess.cmd8.wrapper.cmd0.Fix[[TParent >: scala.Nothing <: scala.Any] => ammonite.$sess.cmd9.wrapper.cmd8.NodeF[java.lang.String, TParent]]]]] = \u001b[33mDatabase\u001b[39m(\n",
       "  nodes = \u001b[33mList\u001b[39m(\n",
       "    \u001b[33mFix\u001b[39m(\n",
       "      unFix = \u001b[33mNodeF\u001b[39m(\n",
       "        id = \u001b[32m0\u001b[39m,\n",
       "        parent = \u001b[33mFix\u001b[39m(\n",
       "          unFix = \u001b[33mNodeF\u001b[39m(\n",
       "            id = \u001b[32m0\u001b[39m,\n",
       "            parent = \u001b[33mFix\u001b[39m(\n",
       "              unFix = \u001b[33mNodeF\u001b[39m(\n",
       "                id = \u001b[32m0\u001b[39m,\n",
       "                parent = \u001b[33mFix\u001b[39m(\n",
       "                  unFix = \u001b[33mNodeF\u001b[39m(\n",
       "                    id = \u001b[32m0\u001b[39m,\n",
       "                    parent = \u001b[33mFix\u001b[39m(\n",
       "                      unFix = \u001b[33mNodeF\u001b[39m(\n",
       "                        id = \u001b[32m0\u001b[39m,\n",
       "                        parent = \u001b[33mFix\u001b[39m(\n",
       "                          unFix = \u001b[33mNodeF\u001b[39m(\n",
       "                            id = \u001b[32m0\u001b[39m,\n",
       "                            parent = \u001b[33mFix\u001b[39m(\n",
       "                              unFix = \u001b[33mNodeF\u001b[39m(\n",
       "                                id = \u001b[32m0\u001b[39m,\n",
       "                                parent = \u001b[33mFix\u001b[39m(\n",
       "                                  unFix = \u001b[33mNodeF\u001b[39m(\n",
       "                                    id = \u001b[32m0\u001b[39m,\n",
       "                                    parent = \u001b[33mFix\u001b[39m(\n",
       "                                      unFix = \u001b[33mNodeF\u001b[39m(\n",
       "                                        id = \u001b[32m0\u001b[39m,\n",
       "                                        parent = \u001b[33mFix\u001b[39m(\n",
       "                                          unFix = \u001b[33mNodeF\u001b[39m(\n",
       "                                            id = \u001b[32m0\u001b[39m,\n",
       "                                            parent = \u001b[33mFix\u001b[39m(\n",
       "                                              unFix = \u001b[33mNodeF\u001b[39m(\n",
       "                                                id = \u001b[32m0\u001b[39m,\n",
       "                                                parent = \u001b[33mFix\u001b[39m(\n",
       "                                                  unFix = \u001b[33mNodeF\u001b[39m(\n",
       "..."
      ]
     },
     "execution_count": 15,
     "metadata": {},
     "output_type": "execute_result"
    }
   ],
   "source": [
    "val dbn2 = dbn.copy(nodes=dbn.nodes :+ Node(5, dbn.nodes(0), \"C\"))"
   ]
  },
  {
   "cell_type": "markdown",
   "id": "3da8ae22",
   "metadata": {},
   "source": [
    "Updated flat representation:"
   ]
  },
  {
   "cell_type": "code",
   "execution_count": 16,
   "id": "24a62104",
   "metadata": {},
   "outputs": [
    {
     "data": {
      "text/plain": [
       "\u001b[36mdbf2\u001b[39m: \u001b[32mDatabase\u001b[39m[\u001b[32mNodeF\u001b[39m[\u001b[32mString\u001b[39m, \u001b[32mId\u001b[39m]] = \u001b[33mDatabase\u001b[39m(\n",
       "  nodes = \u001b[33mList\u001b[39m(\n",
       "    \u001b[33mNodeF\u001b[39m(id = \u001b[32m0\u001b[39m, parent = \u001b[32m0\u001b[39m, value = \u001b[32m\"Root\"\u001b[39m),\n",
       "    \u001b[33mNodeF\u001b[39m(id = \u001b[32m1\u001b[39m, parent = \u001b[32m0\u001b[39m, value = \u001b[32m\"A\"\u001b[39m),\n",
       "    \u001b[33mNodeF\u001b[39m(id = \u001b[32m2\u001b[39m, parent = \u001b[32m1\u001b[39m, value = \u001b[32m\"A-1\"\u001b[39m),\n",
       "    \u001b[33mNodeF\u001b[39m(id = \u001b[32m3\u001b[39m, parent = \u001b[32m2\u001b[39m, value = \u001b[32m\"A-2\"\u001b[39m),\n",
       "    \u001b[33mNodeF\u001b[39m(id = \u001b[32m4\u001b[39m, parent = \u001b[32m0\u001b[39m, value = \u001b[32m\"B\"\u001b[39m),\n",
       "    \u001b[33mNodeF\u001b[39m(id = \u001b[32m5\u001b[39m, parent = \u001b[32m0\u001b[39m, value = \u001b[32m\"C\"\u001b[39m)\n",
       "  )\n",
       ")"
      ]
     },
     "execution_count": 16,
     "metadata": {},
     "output_type": "execute_result"
    }
   ],
   "source": [
    "val dbf2 = unnest(dbn2)"
   ]
  },
  {
   "cell_type": "markdown",
   "id": "1cd8295e",
   "metadata": {},
   "source": [
    "## Mutually Recursive Example: Employee/Department"
   ]
  },
  {
   "cell_type": "code",
   "execution_count": 17,
   "id": "cbece9ec",
   "metadata": {},
   "outputs": [
    {
     "data": {
      "text/plain": [
       "defined \u001b[32mclass\u001b[39m \u001b[36mPerson\u001b[39m\n",
       "defined \u001b[32mclass\u001b[39m \u001b[36mDepartment\u001b[39m\n",
       "defined \u001b[32mclass\u001b[39m \u001b[36mDatabase\u001b[39m"
      ]
     },
     "execution_count": 17,
     "metadata": {},
     "output_type": "execute_result"
    }
   ],
   "source": [
    "case class Person[TDepartment](\n",
    "  val id: Id,\n",
    "  var name: String,\n",
    "  var worksIn: TDepartment,\n",
    ")\n",
    "\n",
    "case class Department[TPerson](\n",
    "  val id: Id,\n",
    "  var name: String,\n",
    "  var manager: TPerson,\n",
    ")\n",
    "\n",
    "case class Database[TPerson, TDepartment](\n",
    "  val persons: Seq[TPerson],\n",
    "  val departments: Seq[TDepartment],\n",
    ")"
   ]
  },
  {
   "cell_type": "code",
   "execution_count": 18,
   "id": "2c3145b0",
   "metadata": {},
   "outputs": [
    {
     "data": {
      "text/plain": [
       "defined \u001b[32mtype\u001b[39m \u001b[36mPersonF\u001b[39m\n",
       "defined \u001b[32mtype\u001b[39m \u001b[36mDepartmentF\u001b[39m\n",
       "defined \u001b[32mtype\u001b[39m \u001b[36mPersonN\u001b[39m\n",
       "defined \u001b[32mtype\u001b[39m \u001b[36mDepartmentN\u001b[39m\n",
       "defined \u001b[32mobject\u001b[39m \u001b[36mPersonN\u001b[39m\n",
       "defined \u001b[32mobject\u001b[39m \u001b[36mDepartmentN\u001b[39m\n",
       "defined \u001b[32mtype\u001b[39m \u001b[36mDBF\u001b[39m\n",
       "defined \u001b[32mtype\u001b[39m \u001b[36mDBN\u001b[39m"
      ]
     },
     "execution_count": 18,
     "metadata": {},
     "output_type": "execute_result"
    }
   ],
   "source": [
    "type PersonF = Person[Id]\n",
    "type DepartmentF = Department[Id]\n",
    "\n",
    "type PersonN = Fix2[\n",
    "  [TPerson, TDepartment] =>> Person[TDepartment],\n",
    "  [TPerson, TDepartment] =>> Department[TDepartment]\n",
    "]\n",
    "type DepartmentN = Fix2[\n",
    "  [TDepartment, TPerson] =>> Department[TPerson],\n",
    "  [TDepartment, TPerson] =>> Person[TPerson]\n",
    "]\n",
    "\n",
    "object PersonN:\n",
    "  def apply(id: Id, name: String, worksIn: DepartmentN): PersonN =\n",
    "    Fix2(Person(id, name, worksIn))\n",
    "\n",
    "object DepartmentN:\n",
    "  def apply(id: Id, name: String, manager: PersonN): DepartmentN =\n",
    "    Fix2(Department(id, name, manager))\n",
    "\n",
    "type DBF = Database[PersonF, DepartmentF]\n",
    "type DBN = Database[PersonN, DepartmentN]"
   ]
  },
  {
   "cell_type": "code",
   "execution_count": 19,
   "id": "ba0c7df5",
   "metadata": {},
   "outputs": [
    {
     "data": {
      "text/plain": [
       "defined \u001b[32mfunction\u001b[39m \u001b[36mnest\u001b[39m\n",
       "defined \u001b[32mfunction\u001b[39m \u001b[36munnest\u001b[39m"
      ]
     },
     "execution_count": 19,
     "metadata": {},
     "output_type": "execute_result"
    }
   ],
   "source": [
    "def nest(db: DBF): DBN =\n",
    "  val cachePersons: Map[Id, PersonN] = Map.from(db.persons.map(person => \n",
    "    (person.id, Fix2(person.copy(worksIn=null)))\n",
    "  ))\n",
    "  val cacheDepartments: Map[Id, DepartmentN] = Map.from(db.departments.map(department => \n",
    "    (department.id, Fix2(department.copy(manager=null)))\n",
    "  ))\n",
    "  def nestPersons(persons: Seq[PersonF]): Seq[PersonN] = \n",
    "    persons.map(person => {\n",
    "      val Fix2(personF) = cachePersons(person.id)\n",
    "      personF.worksIn = cacheDepartments(person.worksIn)\n",
    "      Fix2(personF)\n",
    "    })\n",
    "  def nestDepartments(departments: Seq[DepartmentF]): Seq[DepartmentN] = \n",
    "    departments.map(department => {\n",
    "      val Fix2(departmentF) = cacheDepartments(department.id)\n",
    "      departmentF.manager = cachePersons(department.manager)\n",
    "      Fix2(departmentF)\n",
    "    })\n",
    "  db.copy(\n",
    "    persons=nestPersons(db.persons),\n",
    "    departments=nestDepartments(db.departments),\n",
    "  )\n",
    "\n",
    "def unnest(db: DBN): DBF =\n",
    "  def unnestPersons(persons: Seq[PersonN]): Seq[PersonF] =\n",
    "    persons.map(person => \n",
    "      val Fix2(personF) = person\n",
    "      val Fix2(worksInF) = personF.worksIn\n",
    "      personF.copy(worksIn=worksInF.id)\n",
    "    )\n",
    "  def unnestDepartments(departments: Seq[DepartmentN]): Seq[DepartmentF] =\n",
    "    departments.map(department => \n",
    "      val Fix2(departmentF) = department\n",
    "      val Fix2(managerF) = departmentF.manager\n",
    "      departmentF.copy(manager=managerF.id)\n",
    "    )\n",
    "  db.copy(\n",
    "    persons=unnestPersons(db.persons),\n",
    "    departments=unnestDepartments(db.departments),\n",
    "  )"
   ]
  },
  {
   "cell_type": "code",
   "execution_count": 20,
   "id": "9bef770d",
   "metadata": {},
   "outputs": [
    {
     "data": {
      "text/plain": [
       "\u001b[36mdbf\u001b[39m: \u001b[32mDatabase\u001b[39m[\u001b[32mPersonF\u001b[39m, \u001b[32mDepartmentF\u001b[39m] = \u001b[33mDatabase\u001b[39m(\n",
       "  persons = \u001b[33mList\u001b[39m(\n",
       "    \u001b[33mPerson\u001b[39m(id = \u001b[32m0\u001b[39m, name = \u001b[32m\"Alice\"\u001b[39m, worksIn = \u001b[32m0\u001b[39m),\n",
       "    \u001b[33mPerson\u001b[39m(id = \u001b[32m1\u001b[39m, name = \u001b[32m\"Bob\"\u001b[39m, worksIn = \u001b[32m1\u001b[39m),\n",
       "    \u001b[33mPerson\u001b[39m(id = \u001b[32m2\u001b[39m, name = \u001b[32m\"Carol\"\u001b[39m, worksIn = \u001b[32m1\u001b[39m)\n",
       "  ),\n",
       "  departments = \u001b[33mList\u001b[39m(\n",
       "    \u001b[33mDepartment\u001b[39m(id = \u001b[32m0\u001b[39m, name = \u001b[32m\"A\"\u001b[39m, manager = \u001b[32m0\u001b[39m),\n",
       "    \u001b[33mDepartment\u001b[39m(id = \u001b[32m1\u001b[39m, name = \u001b[32m\"B\"\u001b[39m, manager = \u001b[32m1\u001b[39m)\n",
       "  )\n",
       ")\n",
       "\u001b[36mdbn\u001b[39m: \u001b[32mDatabase\u001b[39m[\u001b[32mPersonN\u001b[39m, \u001b[32mDepartmentN\u001b[39m] = \u001b[33mDatabase\u001b[39m(\n",
       "  persons = \u001b[33mList\u001b[39m(\n",
       "    \u001b[33mFix2\u001b[39m(\n",
       "      unFix2 = \u001b[33mPerson\u001b[39m(\n",
       "        id = \u001b[32m0\u001b[39m,\n",
       "        name = \u001b[32m\"Alice\"\u001b[39m,\n",
       "        worksIn = \u001b[33mFix2\u001b[39m(\n",
       "          unFix2 = \u001b[33mDepartment\u001b[39m(\n",
       "            id = \u001b[32m0\u001b[39m,\n",
       "            name = \u001b[32m\"A\"\u001b[39m,\n",
       "            manager = \u001b[33mFix2\u001b[39m(\n",
       "              unFix2 = \u001b[33mPerson\u001b[39m(\n",
       "                id = \u001b[32m0\u001b[39m,\n",
       "                name = \u001b[32m\"Alice\"\u001b[39m,\n",
       "                worksIn = \u001b[33mFix2\u001b[39m(\n",
       "                  unFix2 = \u001b[33mDepartment\u001b[39m(\n",
       "                    id = \u001b[32m0\u001b[39m,\n",
       "                    name = \u001b[32m\"A\"\u001b[39m,\n",
       "                    manager = \u001b[33mFix2\u001b[39m(\n",
       "                      unFix2 = \u001b[33mPerson\u001b[39m(\n",
       "                        id = \u001b[32m0\u001b[39m,\n",
       "                        name = \u001b[32m\"Alice\"\u001b[39m,\n",
       "                        worksIn = \u001b[33mFix2\u001b[39m(\n",
       "                          unFix2 = \u001b[33mDepartment\u001b[39m(\n",
       "                            id = \u001b[32m0\u001b[39m,\n",
       "                            name = \u001b[32m\"A\"\u001b[39m,\n",
       "                            manager = \u001b[33mFix2\u001b[39m(\n",
       "                              unFix2 = \u001b[33mPerson\u001b[39m(\n",
       "                                id = \u001b[32m0\u001b[39m,\n",
       "                                name = \u001b[32m\"Alice\"\u001b[39m,\n",
       "                                worksIn = \u001b[33mFix2\u001b[39m(\n",
       "                                  unFix2 = \u001b[33mDepartment\u001b[39m(\n",
       "                                    id = \u001b[32m0\u001b[39m,\n",
       "                                    name = \u001b[32m\"A\"\u001b[39m,\n",
       "                                    manager = \u001b[33mFix2\u001b[39m(\n",
       "                                      unFix2 = \u001b[33mPerson\u001b[39m(\n",
       "                                        id = \u001b[32m0\u001b[39m,\n",
       "                                        name = \u001b[32m\"Alice\"\u001b[39m,\n",
       "                                        worksIn = \u001b[33mFix2\u001b[39m(\n",
       "..."
      ]
     },
     "execution_count": 20,
     "metadata": {},
     "output_type": "execute_result"
    }
   ],
   "source": [
    "val dbf: DBF = Database(\n",
    "  Seq(\n",
    "    Person(0, \"Alice\", 0),\n",
    "    Person(1, \"Bob\", 1),\n",
    "    Person(2, \"Carol\", 1),\n",
    "  ),\n",
    "  Seq(\n",
    "    Department(0, \"A\", 0),\n",
    "    Department(1, \"B\", 1),\n",
    "  )\n",
    ")\n",
    "\n",
    "val dbn: DBN = nest(dbf)"
   ]
  },
  {
   "cell_type": "code",
   "execution_count": 21,
   "id": "3bd4ab91",
   "metadata": {},
   "outputs": [
    {
     "name": "stdout",
     "output_type": "stream",
     "text": [
      "Alice (A, Alice)\n",
      "Bob (B, Bob)\n",
      "Carol (B, Bob)\n"
     ]
    }
   ],
   "source": [
    "for (person <- dbn.persons)\n",
    "  val Fix2(personF) = person\n",
    "  val Fix2(departmentF) = personF.worksIn\n",
    "  val Fix2(managerF) = departmentF.manager\n",
    "  println(s\"${personF.name} (${departmentF.name}, ${managerF.name})\")"
   ]
  },
  {
   "cell_type": "markdown",
   "id": "ee2a76ee",
   "metadata": {},
   "source": [
    "**Idea: Implement a generic way to do this for any/all homs/foreign keys?**"
   ]
  }
 ],
 "metadata": {
  "@webio": {
   "lastCommId": null,
   "lastKernelId": null
  },
  "kernelspec": {
   "display_name": "Scala",
   "language": "scala",
   "name": "scala"
  },
  "language_info": {
   "codemirror_mode": "text/x-scala",
   "file_extension": ".sc",
   "mimetype": "text/x-scala",
   "name": "scala",
   "nbconvert_exporter": "script",
   "version": "2.13.10"
  }
 },
 "nbformat": 4,
 "nbformat_minor": 5
}
