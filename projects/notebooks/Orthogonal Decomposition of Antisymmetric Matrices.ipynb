{
 "cells": [
  {
   "cell_type": "markdown",
   "metadata": {},
   "source": [
    "# Orthogonal Decomposition of Antisymmetric Matrices\n",
    "\n",
    "Generalized implementation of method described in:\n",
    "\n",
    "[1]: Hanson, Jason. \"Rotations in three, four, and five dimensions.\" arXiv preprint arXiv:1103.5263 (2011)."
   ]
  },
  {
   "cell_type": "markdown",
   "metadata": {},
   "source": [
    "### Problem Statement\n",
    "\n",
    "Given $f$ be a real $n \\times n$ antisymmetric matrix, find the orthogonal decomposition $f = \\sum _{j}f_{j}$ where $j = 1, \\dots, m$ and $m = \\lfloor \\frac{n}{2} \\rfloor$.\n"
   ]
  },
  {
   "cell_type": "markdown",
   "metadata": {},
   "source": [
    "### Motivation\n",
    "\n",
    "If we are able to write an antisymmetric matix $f$ as a the sum of wedge products $f_j$ whose two–planes are mutually orthogonal, then:\n",
    "\n",
    "$(\\sum_{j}f_{j})^{k}=\\sum_{j}f_{j}^{k}$\n",
    "\n",
    "We can use this to compute the matrix exponential. From Taylor series expansion:\n",
    "\n",
    "$R = exp(f) = exp(\\sum_{j}f_{j}) = I + \\sum_{j}(exp(f_{j})-I)$\n",
    "\n",
    "Where:\n",
    "\n",
    "$exp(f_{j}) = exp(\\theta (\\mathbf{u} \\wedge \\mathbf{v})) = I - (1-cos(\\theta)\\operatorname{proj}_{\\mathbf{uv}} + sin(\\theta)(\\mathbf{u} \\wedge \\mathbf{v})$"
   ]
  },
  {
   "cell_type": "markdown",
   "metadata": {},
   "source": [
    "## Preliminaries"
   ]
  },
  {
   "cell_type": "code",
   "execution_count": 1,
   "metadata": {},
   "outputs": [],
   "source": [
    "import types\n",
    "\n",
    "import functools as ft\n",
    "import itertools as it\n",
    "\n",
    "import numpy as np\n",
    "import sympy as sp"
   ]
  },
  {
   "cell_type": "markdown",
   "metadata": {},
   "source": [
    "Basic operations and properties.\n",
    "\n",
    "#### Outer Product\n",
    "\n",
    "$\\mathbf{u} \\otimes \\mathbf{v} = \\mathbf{u} \\mathbf{v}^{\\textsf{T}}$\n",
    "\n",
    "#### Wedge Product\n",
    "\n",
    "$\\mathbf{u} \\wedge \\mathbf{v} = \\mathbf{u} \\otimes \\mathbf{v} - \\mathbf{v} \\otimes \\mathbf{u}$\n",
    "\n",
    "#### Properties\n",
    "\n",
    "For all vectors $\\mathbf{u}, \\mathbf{v}$ we have (see [1], Lemma 3.1.):\n",
    "\n",
    "- $\\operatorname{tr}(\\mathbf{u} \\otimes \\mathbf{v}) = \\mathbf{u} \\cdot \\mathbf{v}$\n",
    "- $(\\mathbf{u} \\wedge \\mathbf{v})^2 = -|\\mathbf{u} \\wedge \\mathbf{v}|^2 \\operatorname{proj}_{\\mathbf{uv}}$\n",
    "- $(\\mathbf{u} \\wedge \\mathbf{v})^3 = -|\\mathbf{u} \\wedge \\mathbf{v}|^2 (\\mathbf{u} \\wedge \\mathbf{v})$\n",
    "\n",
    "Where $|\\mathbf{u} \\wedge \\mathbf{v}|^2 = |\\mathbf{u}|^2|\\mathbf{v}|^2 - (\\mathbf{u} \\cdot \\mathbf{v})^2$ and $\\operatorname{proj}_{\\mathbf{uv}}$ is orthogonal projection onto the plane spanned by $\\mathbf{u}$ and $\\mathbf{v}$."
   ]
  },
  {
   "cell_type": "code",
   "execution_count": 2,
   "metadata": {},
   "outputs": [],
   "source": [
    "def outer(u, v):\n",
    "    return sp.Matrix([[u[i]*v[j] for j in range(len(v))] for i in range(len(u))])\n",
    "\n",
    "def wedge(u, v):\n",
    "    return outer(u,v) - outer(v,u)\n",
    "\n",
    "def trace(a):\n",
    "    return sp.simplify(sp.Trace(a))\n",
    "    \n",
    "def inner(a, b):\n",
    "    \"\"\"For symmetric or antisymmetric matrices.\"\"\"\n",
    "    if (isinstance(a, sp.Matrix) and isinstance(b, sp.Matrix)):\n",
    "        return trace(a @ b.T)/2\n",
    "    else:\n",
    "        return np.trace(a @ b.T)/2\n",
    "\n",
    "def norm(m):\n",
    "    return sp.sqrt(inner(m, m))\n",
    "\n",
    "def proj(m):\n",
    "    return -(m @ m)/inner(m, m)"
   ]
  },
  {
   "cell_type": "markdown",
   "metadata": {},
   "source": [
    "Optional: Define some geometries for testing."
   ]
  },
  {
   "cell_type": "code",
   "execution_count": 3,
   "metadata": {},
   "outputs": [],
   "source": [
    "def unit(n, dtype=np.float64):\n",
    "    def _unit(i):\n",
    "        result = np.zeros((n,), dtype=dtype)\n",
    "        result[i] = 1\n",
    "        return result\n",
    "    return _unit\n",
    "\n",
    "def geometry(n):\n",
    "    result = types.SimpleNamespace()\n",
    "    result.n = n\n",
    "    result.basis = [unit(n)(i) for i in range(n)]\n",
    "    for i, in it.combinations(range(n), 1):\n",
    "        v = result.basis[i]\n",
    "        setattr(result, \"e{}\".format(i), v)\n",
    "    for i, j in it.combinations(range(n), 2):\n",
    "        v = wedge(result.basis[i], result.basis[j])\n",
    "        setattr(result, \"e{}{}\".format(i,j), v)\n",
    "    return result\n",
    "\n",
    "g2 = geometry(2)\n",
    "g3 = geometry(3)\n",
    "g4 = geometry(4)\n",
    "g5 = geometry(5)\n",
    "g6 = geometry(6)"
   ]
  },
  {
   "cell_type": "markdown",
   "metadata": {},
   "source": [
    "Optional: Convenience methods for declaring symbols."
   ]
  },
  {
   "cell_type": "code",
   "execution_count": 4,
   "metadata": {},
   "outputs": [],
   "source": [
    "def vec(*args):\n",
    "    return sp.Matrix([args])\n",
    "def sym(s, n, **kwargs):\n",
    "    r = sp.symbols(\" \".join([f\"{s}_{i}\" for i in range(n)]), **kwargs)\n",
    "    return [r] if n==1 else r\n",
    "def symvec(s, n, **kwargs):\n",
    "    return vec(*sym(s, n, **kwargs))"
   ]
  },
  {
   "cell_type": "code",
   "execution_count": 5,
   "metadata": {},
   "outputs": [],
   "source": [
    "thetas = symvec(r\"\\theta\", 9, positive = True, real = True)\n",
    "f = sp.symbols(r\"f\")\n",
    "x = sp.symbols(r\"x\")\n",
    "y = sp.symbols(r\"y\")\n",
    "fs = symvec(\"f\", 9)\n",
    "xs = symvec(\"x\", 9)\n",
    "ys = symvec(\"y\", 9)"
   ]
  },
  {
   "cell_type": "markdown",
   "metadata": {},
   "source": [
    "Method for eliminating variables from systems of polynomial equations.\n",
    "(see https://github.com/sympy/sympy/pull/11485#issuecomment-238145994)"
   ]
  },
  {
   "cell_type": "code",
   "execution_count": 6,
   "metadata": {},
   "outputs": [],
   "source": [
    "from sympy.polys.orderings import _ItemGetter, build_product_order\n",
    "\n",
    "_ItemGetter.__hash__  = lambda self: hash(self.seq) \n",
    "\n",
    "def eliminate(eqs, vs):\n",
    "    '''Method for eliminating variables from systems of polynomial equations'''\n",
    "    O = build_product_order((('lex', v) for v in reversed(vs)), vs)\n",
    "    G = sp.groebner(eqs, *vs, order=O)\n",
    "    return G.exprs[-1]"
   ]
  },
  {
   "cell_type": "markdown",
   "metadata": {},
   "source": [
    "### Orthogonal Decomposition of Antisymmetric Matrix (d=2,3)\n",
    "\n",
    "$f = f_0$\n",
    "\n",
    "(Trivial case.)"
   ]
  },
  {
   "cell_type": "code",
   "execution_count": 7,
   "metadata": {},
   "outputs": [
    {
     "data": {
      "text/latex": [
       "$\\displaystyle 2 x_{0} + y_{0}$"
      ],
      "text/plain": [
       "2*x_0 + y_0"
      ]
     },
     "execution_count": 7,
     "metadata": {},
     "output_type": "execute_result"
    }
   ],
   "source": [
    "eqs = [sp.Eq(-2*(xs[0]**1), ys[0]),]\n",
    "\n",
    "p = eliminate(eqs, xs)\n",
    "p"
   ]
  },
  {
   "cell_type": "code",
   "execution_count": 8,
   "metadata": {},
   "outputs": [
    {
     "data": {
      "text/plain": [
       "[2, y_0]"
      ]
     },
     "execution_count": 8,
     "metadata": {},
     "output_type": "execute_result"
    }
   ],
   "source": [
    "sp.Poly(p, xs[0]).coeffs()"
   ]
  },
  {
   "cell_type": "code",
   "execution_count": 9,
   "metadata": {},
   "outputs": [],
   "source": [
    "def find_theta2s(f):\n",
    "    f1 = f\n",
    "    f2 = f1 @ f1\n",
    "    y0 = np.trace(f2)\n",
    "    p = np.poly1d([2, y0])\n",
    "    return p.roots # -y0/2"
   ]
  },
  {
   "cell_type": "code",
   "execution_count": 10,
   "metadata": {},
   "outputs": [
    {
     "data": {
      "text/plain": [
       "array([123.])"
      ]
     },
     "execution_count": 10,
     "metadata": {},
     "output_type": "execute_result"
    }
   ],
   "source": [
    "np.sqrt(find_theta2s(g2.e01*123))"
   ]
  },
  {
   "cell_type": "markdown",
   "metadata": {},
   "source": [
    "### Orthogonal Decomposition of Antisymmetric Matrix (d=4,5)\n",
    "\n",
    "$f = f_0 + f_1$\n",
    "\n",
    "#### Step 1\n",
    "\n",
    "Find $\\theta_0, \\theta_1$, where $\\theta_{i}^2 = |f_{j}|^2$.\n",
    "\n",
    "(From lemma 3.1, $f_{i}^2 = -|f_{i}|^2*\\operatorname{proj}_{i}$)\n",
    "\n",
    "$f^2 = -|f_0|^2*\\operatorname{proj}_0 -|f_1|^2*\\operatorname{proj}_1$\n",
    "\n",
    "$f^4 = |f_0|^4*\\operatorname{proj}_0 + |f_1|^4*\\operatorname{proj}_1$\n",
    "\n",
    "\n",
    "(From lemma 3.1, $\\operatorname{tr} (\\operatorname{proj}_{uv}) = 2$)\n",
    "\n",
    "$-\\frac{1}{2}\\operatorname{tr} (f^2) = |f_0|^2 + |f_1|^2$\n",
    "\n",
    "$\\frac{1}{2}\\operatorname{tr} (f^4) = |f_0|^4 + |f_1|^4$"
   ]
  },
  {
   "cell_type": "code",
   "execution_count": 11,
   "metadata": {},
   "outputs": [
    {
     "data": {
      "text/latex": [
       "$\\displaystyle 8 x_{0}^{2} + 4 x_{0} y_{0} + y_{0}^{2} - 2 y_{1}$"
      ],
      "text/plain": [
       "8*x_0**2 + 4*x_0*y_0 + y_0**2 - 2*y_1"
      ]
     },
     "execution_count": 11,
     "metadata": {},
     "output_type": "execute_result"
    }
   ],
   "source": [
    "eqs = [\n",
    "    sp.Eq(-2*(xs[0]**1 + xs[1]**1), ys[0]),\n",
    "    sp.Eq(+2*(xs[0]**2 + xs[1]**2), ys[1])\n",
    "]\n",
    "\n",
    "p = eliminate(eqs, xs)\n",
    "p"
   ]
  },
  {
   "cell_type": "code",
   "execution_count": 12,
   "metadata": {},
   "outputs": [
    {
     "data": {
      "text/plain": [
       "[8, 4*y_0, y_0**2 - 2*y_1]"
      ]
     },
     "execution_count": 12,
     "metadata": {},
     "output_type": "execute_result"
    }
   ],
   "source": [
    "sp.Poly(p, xs[0]).coeffs()"
   ]
  },
  {
   "cell_type": "code",
   "execution_count": 13,
   "metadata": {},
   "outputs": [],
   "source": [
    "def find_theta2s(f):\n",
    "    f1 = f\n",
    "    f2 = f1 @ f1\n",
    "    f4 = f2 @ f2\n",
    "    y0 = np.trace(f2)\n",
    "    y1 = np.trace(f4)\n",
    "    p = np.poly1d([8, 4*y0, y0**2 - 2*y1])\n",
    "    return p.roots"
   ]
  },
  {
   "cell_type": "code",
   "execution_count": 14,
   "metadata": {},
   "outputs": [
    {
     "data": {
      "text/plain": [
       "(array([[ 0.,  1.,  0.,  0.],\n",
       "        [-1.,  0.,  0.,  0.],\n",
       "        [ 0.,  0.,  0.,  2.],\n",
       "        [ 0.,  0., -2.,  0.]], dtype=float32),\n",
       " 2.0,\n",
       " 1.0)"
      ]
     },
     "execution_count": 14,
     "metadata": {},
     "output_type": "execute_result"
    }
   ],
   "source": [
    "_theta0 = 1\n",
    "_theta1 = 2\n",
    "\n",
    "_f = np.array(_theta0 * g4.e01 + _theta1 * g4.e23).astype(np.float32)\n",
    "\n",
    "__theta0, __theta1 = np.sqrt(find_theta2s(_f))\n",
    "\n",
    "_f, __theta0, __theta1"
   ]
  },
  {
   "cell_type": "markdown",
   "metadata": {},
   "source": [
    "#### Step 2\n",
    "\n",
    "Express $f_0, f_1$ in terms of $f$ and $\\theta_0, \\theta_1$ by solving the following system (see [1] for derivation):\n",
    "\n",
    "${\\begin{bmatrix}1&1\\\\\\theta_0^2&\\theta_1^2\\\\\\end{bmatrix}}\\,{\\begin{bmatrix}f_0\\\\f_1\\\\\\end{bmatrix}}={\\begin{bmatrix}f\\\\-f^3\\\\\\end{bmatrix}}$"
   ]
  },
  {
   "cell_type": "code",
   "execution_count": 15,
   "metadata": {},
   "outputs": [
    {
     "data": {
      "text/latex": [
       "$\\displaystyle \\left[\\begin{matrix}f_{0} + f_{1}\\\\\\theta_0^{2} f_{0} + \\theta_1^{2} f_{1}\\end{matrix}\\right] = \\left[\\begin{matrix}f\\\\- f^{3}\\end{matrix}\\right]$"
      ],
      "text/plain": [
       "Eq(Matrix([\n",
       "[                        f_0 + f_1],\n",
       "[\\theta_0**2*f_0 + \\theta_1**2*f_1]]), Matrix([\n",
       "[    f],\n",
       "[-f**3]]))"
      ]
     },
     "execution_count": 15,
     "metadata": {},
     "output_type": "execute_result"
    }
   ],
   "source": [
    "T = sp.Matrix([\n",
    "    [thetas[0]**0,thetas[1]**0],\n",
    "    [thetas[0]**2,thetas[1]**2]\n",
    "])\n",
    "_f = sp.Matrix([[f, -f**3]])\n",
    "_fs = sp.Matrix([fs[:2]])\n",
    "eq0 = sp.Eq(T @ _fs.T, _f.T)\n",
    "eq0"
   ]
  },
  {
   "cell_type": "markdown",
   "metadata": {},
   "source": [
    "Solve for $f_0, f_1$."
   ]
  },
  {
   "cell_type": "raw",
   "metadata": {},
   "source": [
    "eq1 = sp.Eq(_fs.T, T.inv() @ _f.T)\n",
    "sp.simplify(eq1)"
   ]
  },
  {
   "cell_type": "markdown",
   "metadata": {},
   "source": [
    "*Careful!*\n",
    "\n",
    "The cases where det(T) == 0 require special handling. Compute determinant separately and check.\n",
    "\n",
    "$T^{-1} = \\frac{1}{det(T)} adj(T)$"
   ]
  },
  {
   "cell_type": "code",
   "execution_count": 16,
   "metadata": {},
   "outputs": [
    {
     "data": {
      "text/latex": [
       "$\\displaystyle \\left[\\begin{matrix}f_{0}\\\\f_{1}\\end{matrix}\\right] = \\left[\\begin{matrix}- \\frac{f \\left(\\theta_1^{2} + f^{2}\\right)}{\\theta_0^{2} - \\theta_1^{2}}\\\\\\frac{f \\left(\\theta_0^{2} + f^{2}\\right)}{\\theta_0^{2} - \\theta_1^{2}}\\end{matrix}\\right]$"
      ],
      "text/plain": [
       "Eq(Matrix([\n",
       "[f_0],\n",
       "[f_1]]), Matrix([\n",
       "[-f*(\\theta_1**2 + f**2)/(\\theta_0**2 - \\theta_1**2)],\n",
       "[ f*(\\theta_0**2 + f**2)/(\\theta_0**2 - \\theta_1**2)]]))"
      ]
     },
     "execution_count": 16,
     "metadata": {},
     "output_type": "execute_result"
    }
   ],
   "source": [
    "eq1 = sp.Eq(_fs.T, 1/T.det() * (T.adjugate() @ _f.T))\n",
    "sp.simplify(eq1)"
   ]
  },
  {
   "cell_type": "code",
   "execution_count": 17,
   "metadata": {},
   "outputs": [],
   "source": [
    "def decompose_antisymmetric(f):\n",
    "    f1 = f\n",
    "    f2 = f @ f1\n",
    "    f3 = f @ f2\n",
    "    f4 = f @ f3\n",
    "    y0 = np.trace(f2)\n",
    "    y1 = np.trace(f4)\n",
    "    t = np.poly1d([8, 4*y0, y0**2 - 2*y1]).roots\n",
    "    dt = t[1] - t[0]\n",
    "    if np.isclose(dt, 0):\n",
    "        raise NotImplementedError\n",
    "    f0 = (+f3 + t[1] * f1)/dt\n",
    "    f1 = (-f3 - t[0] * f1)/dt\n",
    "    return f0, f1"
   ]
  },
  {
   "cell_type": "code",
   "execution_count": 18,
   "metadata": {},
   "outputs": [],
   "source": [
    "def is_ortho(x, y):\n",
    "    return np.isclose(inner(x, y), 0)"
   ]
  },
  {
   "cell_type": "code",
   "execution_count": 19,
   "metadata": {},
   "outputs": [
    {
     "data": {
      "text/plain": [
       "(True, True)"
      ]
     },
     "execution_count": 19,
     "metadata": {},
     "output_type": "execute_result"
    }
   ],
   "source": [
    "_theta0 = 1\n",
    "_theta1 = 2\n",
    "\n",
    "_f = np.array(_theta0 * g4.e01 + _theta1 * g4.e23).astype(np.float32)\n",
    "\n",
    "_f0, _f1 = decompose_antisymmetric(_f)\n",
    "\n",
    "#print(_f, _f0, _f1)\n",
    "\n",
    "np.allclose(_f, _f0 + _f1), is_ortho(_f0, _f1)"
   ]
  },
  {
   "cell_type": "markdown",
   "metadata": {},
   "source": [
    "### Orthogonal Decomposition of Antisymmetric Matrix (d=6,7)\n",
    "\n",
    "$f = f_0 + f_1 + f_2$\n",
    "\n",
    "#### Step 1\n",
    "\n",
    "Find $\\theta_0, \\theta_1, \\theta_2$, where $\\theta_{i}^2 = |f_{j}|^2$."
   ]
  },
  {
   "cell_type": "code",
   "execution_count": 20,
   "metadata": {},
   "outputs": [
    {
     "data": {
      "text/latex": [
       "$\\displaystyle 48 x_{0}^{3} + 24 x_{0}^{2} y_{0} + x_{0} \\left(6 y_{0}^{2} - 12 y_{1}\\right) + y_{0}^{3} - 6 y_{0} y_{1} + 8 y_{2}$"
      ],
      "text/plain": [
       "48*x_0**3 + 24*x_0**2*y_0 + x_0*(6*y_0**2 - 12*y_1) + y_0**3 - 6*y_0*y_1 + 8*y_2"
      ]
     },
     "execution_count": 20,
     "metadata": {},
     "output_type": "execute_result"
    }
   ],
   "source": [
    "eqs = [\n",
    "    sp.Eq(-2*(xs[0]**1 + xs[1]**1 + xs[2]**1), ys[0]),\n",
    "    sp.Eq(+2*(xs[0]**2 + xs[1]**2 + xs[2]**2), ys[1]),\n",
    "    sp.Eq(-2*(xs[0]**3 + xs[1]**3 + xs[2]**3), ys[2]),\n",
    "]\n",
    "\n",
    "p = eliminate(eqs, xs)\n",
    "p"
   ]
  },
  {
   "cell_type": "code",
   "execution_count": 21,
   "metadata": {},
   "outputs": [
    {
     "data": {
      "text/plain": [
       "[48, 24*y_0, 6*y_0**2 - 12*y_1, y_0**3 - 6*y_0*y_1 + 8*y_2]"
      ]
     },
     "execution_count": 21,
     "metadata": {},
     "output_type": "execute_result"
    }
   ],
   "source": [
    "sp.Poly(p, xs[0]).coeffs()"
   ]
  },
  {
   "cell_type": "code",
   "execution_count": 22,
   "metadata": {},
   "outputs": [],
   "source": [
    "def find_theta2s(f):\n",
    "    f1 = f\n",
    "    f2 = f1 @ f1\n",
    "    f4 = f2 @ f2\n",
    "    f6 = f4 @ f2\n",
    "    y0 = np.trace(f2)\n",
    "    y1 = np.trace(f4)\n",
    "    y2 = np.trace(f6)\n",
    "    p = np.poly1d([48, 24*y0, 6*(y0**2 - 2*y1), y0**3 - 6*y0*y1 + 8*y2])\n",
    "    return p.roots"
   ]
  },
  {
   "cell_type": "code",
   "execution_count": 23,
   "metadata": {},
   "outputs": [
    {
     "data": {
      "text/plain": [
       "(array([[ 0.,  1.,  0.,  0.,  0.,  0.],\n",
       "        [-1.,  0.,  0.,  0.,  0.,  0.],\n",
       "        [ 0.,  0.,  0.,  2.,  0.,  0.],\n",
       "        [ 0.,  0., -2.,  0.,  0.,  0.],\n",
       "        [ 0.,  0.,  0.,  0.,  0.,  3.],\n",
       "        [ 0.,  0.,  0.,  0., -3.,  0.]], dtype=float32),\n",
       " 3.0000000000000013,\n",
       " 1.9999999999999987,\n",
       " 0.9999999999999999)"
      ]
     },
     "execution_count": 23,
     "metadata": {},
     "output_type": "execute_result"
    }
   ],
   "source": [
    "_theta0 = 1\n",
    "_theta1 = 2\n",
    "_theta2 = 3\n",
    "\n",
    "_f = np.array(_theta0 * g6.e01 + _theta1 * g6.e23 + _theta2 * g6.e45).astype(np.float32)\n",
    "\n",
    "__theta0, __theta1, __theta2 = np.sqrt(find_theta2s(_f))\n",
    "\n",
    "_f, __theta0, __theta1, __theta2"
   ]
  },
  {
   "cell_type": "markdown",
   "metadata": {},
   "source": [
    "#### Step 2\n",
    "\n",
    "Express $f_0, f_1, f_2$ in terms of $f$ and $\\theta_0, \\theta_1, , \\theta_2$ by solving the following system (see [1] for derivation):\n",
    "\n",
    "${\\begin{bmatrix}1&1&1\\\\\\theta_0^2&\\theta_1^2&\\theta_2^2\\\\\\theta_0^4&\\theta_1^4&\\theta_2^4\\\\\\end{bmatrix}}\\,{\\begin{bmatrix}f_0\\\\f_1\\\\f_2\\\\\\end{bmatrix}}={\\begin{bmatrix}f\\\\-f^3\\\\f^5\\\\\\end{bmatrix}}$"
   ]
  },
  {
   "cell_type": "code",
   "execution_count": 24,
   "metadata": {},
   "outputs": [
    {
     "data": {
      "text/latex": [
       "$\\displaystyle \\left[\\begin{matrix}f_{0} + f_{1} + f_{2}\\\\\\theta_0^{2} f_{0} + \\theta_1^{2} f_{1} + \\theta_2^{2} f_{2}\\\\\\theta_0^{4} f_{0} + \\theta_1^{4} f_{1} + \\theta_2^{4} f_{2}\\end{matrix}\\right] = \\left[\\begin{matrix}f\\\\- f^{3}\\\\f^{5}\\end{matrix}\\right]$"
      ],
      "text/plain": [
       "Eq(Matrix([\n",
       "[                                    f_0 + f_1 + f_2],\n",
       "[\\theta_0**2*f_0 + \\theta_1**2*f_1 + \\theta_2**2*f_2],\n",
       "[\\theta_0**4*f_0 + \\theta_1**4*f_1 + \\theta_2**4*f_2]]), Matrix([\n",
       "[    f],\n",
       "[-f**3],\n",
       "[ f**5]]))"
      ]
     },
     "execution_count": 24,
     "metadata": {},
     "output_type": "execute_result"
    }
   ],
   "source": [
    "T = sp.Matrix([\n",
    "    [thetas[0]**0,thetas[1]**0,thetas[2]**0],\n",
    "    [thetas[0]**2,thetas[1]**2,thetas[2]**2],\n",
    "    [thetas[0]**4,thetas[1]**4,thetas[2]**4]\n",
    "])\n",
    "_f = sp.Matrix([[f, -f**3, f**5]])\n",
    "_fs = sp.Matrix([fs[:3]])\n",
    "\n",
    "eq0 = sp.Eq(T @ _fs.T, _f.T)\n",
    "eq0"
   ]
  },
  {
   "cell_type": "markdown",
   "metadata": {},
   "source": [
    "Solve for $f_0, f_1, f_2$."
   ]
  },
  {
   "cell_type": "code",
   "execution_count": 25,
   "metadata": {},
   "outputs": [
    {
     "data": {
      "text/latex": [
       "$\\displaystyle \\left[\\begin{matrix}f_{0}\\\\f_{1}\\\\f_{2}\\end{matrix}\\right] = \\left[\\begin{matrix}\\frac{f \\left(\\theta_1^{2} \\theta_2^{2} + \\theta_1^{2} f^{2} + \\theta_2^{2} f^{2} + f^{4}\\right)}{\\theta_0^{4} - \\theta_0^{2} \\theta_1^{2} - \\theta_0^{2} \\theta_2^{2} + \\theta_1^{2} \\theta_2^{2}}\\\\- \\frac{f \\left(\\theta_0^{2} \\theta_2^{2} + \\theta_0^{2} f^{2} + \\theta_2^{2} f^{2} + f^{4}\\right)}{\\theta_0^{2} \\theta_1^{2} - \\theta_0^{2} \\theta_2^{2} - \\theta_1^{4} + \\theta_1^{2} \\theta_2^{2}}\\\\\\frac{f \\left(\\theta_0^{2} \\theta_1^{2} + \\theta_0^{2} f^{2} + \\theta_1^{2} f^{2} + f^{4}\\right)}{\\theta_0^{2} \\theta_1^{2} - \\theta_0^{2} \\theta_2^{2} - \\theta_1^{2} \\theta_2^{2} + \\theta_2^{4}}\\end{matrix}\\right]$"
      ],
      "text/plain": [
       "Eq(Matrix([\n",
       "[f_0],\n",
       "[f_1],\n",
       "[f_2]]), Matrix([\n",
       "[ f*(\\theta_1**2*\\theta_2**2 + \\theta_1**2*f**2 + \\theta_2**2*f**2 + f**4)/(\\theta_0**4 - \\theta_0**2*\\theta_1**2 - \\theta_0**2*\\theta_2**2 + \\theta_1**2*\\theta_2**2)],\n",
       "[-f*(\\theta_0**2*\\theta_2**2 + \\theta_0**2*f**2 + \\theta_2**2*f**2 + f**4)/(\\theta_0**2*\\theta_1**2 - \\theta_0**2*\\theta_2**2 - \\theta_1**4 + \\theta_1**2*\\theta_2**2)],\n",
       "[ f*(\\theta_0**2*\\theta_1**2 + \\theta_0**2*f**2 + \\theta_1**2*f**2 + f**4)/(\\theta_0**2*\\theta_1**2 - \\theta_0**2*\\theta_2**2 - \\theta_1**2*\\theta_2**2 + \\theta_2**4)]]))"
      ]
     },
     "execution_count": 25,
     "metadata": {},
     "output_type": "execute_result"
    }
   ],
   "source": [
    "eq1 = sp.Eq(_fs.T, 1/T.det() * (T.adjugate() @ _f.T))\n",
    "sp.simplify(eq1)"
   ]
  },
  {
   "cell_type": "code",
   "execution_count": 26,
   "metadata": {},
   "outputs": [],
   "source": [
    "def decompose_antisymmetric(f):\n",
    "    f1 = f\n",
    "    f2 = f1 @ f1\n",
    "    f3 = f2 @ f1\n",
    "    f4 = f3 @ f1\n",
    "    f5 = f4 @ f1\n",
    "    f6 = f5 @ f1\n",
    "    y0 = np.trace(f2)\n",
    "    y1 = np.trace(f4)\n",
    "    y2 = np.trace(f6)\n",
    "    t = np.poly1d([48, 24*y0, 6*(y0**2 - 2*y1), y0**3 - 6*y0*y1 + 8*y2]).roots\n",
    "    dt = (t[0] * t[1]**2 - t[0]**2 * t[1]) + (t[0]**2 * t[2] - t[0] * t[2]**2) + (t[1]*t[2]**2 - t[1]**2 * t[2]) \n",
    "    if np.isclose(dt, 0):\n",
    "        raise NotImplementedError\n",
    "    f0 = ((t[2] - t[1])*f5 + (t[2]**2 - t[1]**2)*f3 + (t[1]*t[2]**2 - t[1]**2*t[2])*f)/dt\n",
    "    f1 = ((t[0] - t[2])*f5 + (t[0]**2 - t[2]**2)*f3 + (t[2]*t[0]**2 - t[2]**2*t[0])*f)/dt\n",
    "    f2 = ((t[1] - t[0])*f5 + (t[1]**2 - t[0]**2)*f3 + (t[0]*t[1]**2 - t[0]**2*t[1])*f)/dt\n",
    "    return f0, f1, f2"
   ]
  },
  {
   "cell_type": "code",
   "execution_count": 27,
   "metadata": {},
   "outputs": [
    {
     "data": {
      "text/plain": [
       "(True, True, True, True)"
      ]
     },
     "execution_count": 27,
     "metadata": {},
     "output_type": "execute_result"
    }
   ],
   "source": [
    "_theta0 = 1\n",
    "_theta1 = 2\n",
    "_theta2 = 3\n",
    "\n",
    "_f = np.array(_theta0 * g6.e01 + _theta1 * g6.e23 + _theta2 * g6.e45).astype(np.float32)\n",
    "\n",
    "_f0, _f1, _f2 = decompose_antisymmetric(_f)\n",
    "\n",
    "#print(_f, _f0, _f1, _f2)\n",
    "\n",
    "np.allclose(_f, _f0 + _f1 + _f2), is_ortho(_f0, _f1), is_ortho(_f0, _f2), is_ortho(_f1, _f2)"
   ]
  },
  {
   "cell_type": "markdown",
   "metadata": {},
   "source": [
    "### Orthogonal Decomposition of Antisymmetric Matrix"
   ]
  },
  {
   "cell_type": "code",
   "execution_count": 28,
   "metadata": {},
   "outputs": [],
   "source": [
    "def generate_polynomial(n):\n",
    "    m = n//2\n",
    "    eqs = [sp.Eq((-1)**(i+1) * 2 * sum(xs[j]**(i+1) for j in range(m)), ys[i]) for i in range(m)]\n",
    "    return eliminate(eqs, xs)"
   ]
  },
  {
   "cell_type": "code",
   "execution_count": 29,
   "metadata": {},
   "outputs": [
    {
     "data": {
      "text/latex": [
       "$\\displaystyle 384 x_{0}^{4} + 192 x_{0}^{3} y_{0} + x_{0}^{2} \\left(48 y_{0}^{2} - 96 y_{1}\\right) + x_{0} \\left(8 y_{0}^{3} - 48 y_{0} y_{1} + 64 y_{2}\\right) + y_{0}^{4} - 12 y_{0}^{2} y_{1} + 32 y_{0} y_{2} + 12 y_{1}^{2} - 48 y_{3}$"
      ],
      "text/plain": [
       "384*x_0**4 + 192*x_0**3*y_0 + x_0**2*(48*y_0**2 - 96*y_1) + x_0*(8*y_0**3 - 48*y_0*y_1 + 64*y_2) + y_0**4 - 12*y_0**2*y_1 + 32*y_0*y_2 + 12*y_1**2 - 48*y_3"
      ]
     },
     "execution_count": 29,
     "metadata": {},
     "output_type": "execute_result"
    }
   ],
   "source": [
    "p = generate_polynomial(8)\n",
    "p"
   ]
  },
  {
   "cell_type": "code",
   "execution_count": 30,
   "metadata": {},
   "outputs": [
    {
     "data": {
      "text/plain": [
       "[384,\n",
       " 192*y_0,\n",
       " 48*y_0**2 - 96*y_1,\n",
       " 8*y_0**3 - 48*y_0*y_1 + 64*y_2,\n",
       " y_0**4 - 12*y_0**2*y_1 + 32*y_0*y_2 + 12*y_1**2 - 48*y_3]"
      ]
     },
     "execution_count": 30,
     "metadata": {},
     "output_type": "execute_result"
    }
   ],
   "source": [
    "sp.Poly(p, xs[0]).coeffs()"
   ]
  },
  {
   "cell_type": "code",
   "execution_count": 39,
   "metadata": {},
   "outputs": [],
   "source": [
    "def generate_equation(n):\n",
    "    m = n//2\n",
    "    T = sp.Matrix([[thetas[j]**(2*i) for j in range(m)] for i in range(m)])\n",
    "    _f = sp.Matrix([[(-1)**(i) * f**(2*i+1) for i in range(m)]])\n",
    "    _fs = sp.Matrix([fs[:m]])\n",
    "    return T, _f, _fs"
   ]
  },
  {
   "cell_type": "code",
   "execution_count": 40,
   "metadata": {},
   "outputs": [],
   "source": [
    "T, _f, _fs = generate_equation(8)"
   ]
  },
  {
   "cell_type": "code",
   "execution_count": 41,
   "metadata": {},
   "outputs": [
    {
     "data": {
      "text/latex": [
       "$\\displaystyle \\left[\\begin{matrix}f_{0} + f_{1} + f_{2} + f_{3}\\\\\\theta_0^{2} f_{0} + \\theta_1^{2} f_{1} + \\theta_2^{2} f_{2} + \\theta_3^{2} f_{3}\\\\\\theta_0^{4} f_{0} + \\theta_1^{4} f_{1} + \\theta_2^{4} f_{2} + \\theta_3^{4} f_{3}\\\\\\theta_0^{6} f_{0} + \\theta_1^{6} f_{1} + \\theta_2^{6} f_{2} + \\theta_3^{6} f_{3}\\end{matrix}\\right] = \\left[\\begin{matrix}f\\\\- f^{3}\\\\f^{5}\\\\- f^{7}\\end{matrix}\\right]$"
      ],
      "text/plain": [
       "Eq(Matrix([\n",
       "[                                                f_0 + f_1 + f_2 + f_3],\n",
       "[\\theta_0**2*f_0 + \\theta_1**2*f_1 + \\theta_2**2*f_2 + \\theta_3**2*f_3],\n",
       "[\\theta_0**4*f_0 + \\theta_1**4*f_1 + \\theta_2**4*f_2 + \\theta_3**4*f_3],\n",
       "[\\theta_0**6*f_0 + \\theta_1**6*f_1 + \\theta_2**6*f_2 + \\theta_3**6*f_3]]), Matrix([\n",
       "[    f],\n",
       "[-f**3],\n",
       "[ f**5],\n",
       "[-f**7]]))"
      ]
     },
     "execution_count": 41,
     "metadata": {},
     "output_type": "execute_result"
    }
   ],
   "source": [
    "eq0 = sp.Eq(T @ _fs.T, _f.T)\n",
    "eq0"
   ]
  },
  {
   "cell_type": "code",
   "execution_count": 42,
   "metadata": {},
   "outputs": [
    {
     "data": {
      "text/latex": [
       "$\\displaystyle \\left[\\begin{matrix}f_{0}\\\\f_{1}\\\\f_{2}\\\\f_{3}\\end{matrix}\\right] = \\left[\\begin{matrix}- \\frac{f \\left(\\theta_1^{2} \\theta_2^{2} \\theta_3^{2} + \\theta_1^{2} \\theta_2^{2} f^{2} + \\theta_1^{2} \\theta_3^{2} f^{2} + \\theta_1^{2} f^{4} + \\theta_2^{2} \\theta_3^{2} f^{2} + \\theta_2^{2} f^{4} + \\theta_3^{2} f^{4} + f^{6}\\right)}{\\theta_0^{6} - \\theta_0^{4} \\theta_1^{2} - \\theta_0^{4} \\theta_2^{2} - \\theta_0^{4} \\theta_3^{2} + \\theta_0^{2} \\theta_1^{2} \\theta_2^{2} + \\theta_0^{2} \\theta_1^{2} \\theta_3^{2} + \\theta_0^{2} \\theta_2^{2} \\theta_3^{2} - \\theta_1^{2} \\theta_2^{2} \\theta_3^{2}}\\\\\\frac{f \\left(\\theta_0^{2} \\theta_2^{2} \\theta_3^{2} + \\theta_0^{2} \\theta_2^{2} f^{2} + \\theta_0^{2} \\theta_3^{2} f^{2} + \\theta_0^{2} f^{4} + \\theta_2^{2} \\theta_3^{2} f^{2} + \\theta_2^{2} f^{4} + \\theta_3^{2} f^{4} + f^{6}\\right)}{\\theta_0^{2} \\theta_1^{4} - \\theta_0^{2} \\theta_1^{2} \\theta_2^{2} - \\theta_0^{2} \\theta_1^{2} \\theta_3^{2} + \\theta_0^{2} \\theta_2^{2} \\theta_3^{2} - \\theta_1^{6} + \\theta_1^{4} \\theta_2^{2} + \\theta_1^{4} \\theta_3^{2} - \\theta_1^{2} \\theta_2^{2} \\theta_3^{2}}\\\\- \\frac{f \\left(\\theta_0^{2} \\theta_1^{2} \\theta_3^{2} + \\theta_0^{2} \\theta_1^{2} f^{2} + \\theta_0^{2} \\theta_3^{2} f^{2} + \\theta_0^{2} f^{4} + \\theta_1^{2} \\theta_3^{2} f^{2} + \\theta_1^{2} f^{4} + \\theta_3^{2} f^{4} + f^{6}\\right)}{\\theta_0^{2} \\theta_1^{2} \\theta_2^{2} - \\theta_0^{2} \\theta_1^{2} \\theta_3^{2} - \\theta_0^{2} \\theta_2^{4} + \\theta_0^{2} \\theta_2^{2} \\theta_3^{2} - \\theta_1^{2} \\theta_2^{4} + \\theta_1^{2} \\theta_2^{2} \\theta_3^{2} + \\theta_2^{6} - \\theta_2^{4} \\theta_3^{2}}\\\\\\frac{f \\left(\\theta_0^{2} \\theta_1^{2} \\theta_2^{2} + \\theta_0^{2} \\theta_1^{2} f^{2} + \\theta_0^{2} \\theta_2^{2} f^{2} + \\theta_0^{2} f^{4} + \\theta_1^{2} \\theta_2^{2} f^{2} + \\theta_1^{2} f^{4} + \\theta_2^{2} f^{4} + f^{6}\\right)}{\\theta_0^{2} \\theta_1^{2} \\theta_2^{2} - \\theta_0^{2} \\theta_1^{2} \\theta_3^{2} - \\theta_0^{2} \\theta_2^{2} \\theta_3^{2} + \\theta_0^{2} \\theta_3^{4} - \\theta_1^{2} \\theta_2^{2} \\theta_3^{2} + \\theta_1^{2} \\theta_3^{4} + \\theta_2^{2} \\theta_3^{4} - \\theta_3^{6}}\\end{matrix}\\right]$"
      ],
      "text/plain": [
       "Eq(Matrix([\n",
       "[f_0],\n",
       "[f_1],\n",
       "[f_2],\n",
       "[f_3]]), Matrix([\n",
       "[-f*(\\theta_1**2*\\theta_2**2*\\theta_3**2 + \\theta_1**2*\\theta_2**2*f**2 + \\theta_1**2*\\theta_3**2*f**2 + \\theta_1**2*f**4 + \\theta_2**2*\\theta_3**2*f**2 + \\theta_2**2*f**4 + \\theta_3**2*f**4 + f**6)/(\\theta_0**6 - \\theta_0**4*\\theta_1**2 - \\theta_0**4*\\theta_2**2 - \\theta_0**4*\\theta_3**2 + \\theta_0**2*\\theta_1**2*\\theta_2**2 + \\theta_0**2*\\theta_1**2*\\theta_3**2 + \\theta_0**2*\\theta_2**2*\\theta_3**2 - \\theta_1**2*\\theta_2**2*\\theta_3**2)],\n",
       "[ f*(\\theta_0**2*\\theta_2**2*\\theta_3**2 + \\theta_0**2*\\theta_2**2*f**2 + \\theta_0**2*\\theta_3**2*f**2 + \\theta_0**2*f**4 + \\theta_2**2*\\theta_3**2*f**2 + \\theta_2**2*f**4 + \\theta_3**2*f**4 + f**6)/(\\theta_0**2*\\theta_1**4 - \\theta_0**2*\\theta_1**2*\\theta_2**2 - \\theta_0**2*\\theta_1**2*\\theta_3**2 + \\theta_0**2*\\theta_2**2*\\theta_3**2 - \\theta_1**6 + \\theta_1**4*\\theta_2**2 + \\theta_1**4*\\theta_3**2 - \\theta_1**2*\\theta_2**2*\\theta_3**2)],\n",
       "[-f*(\\theta_0**2*\\theta_1**2*\\theta_3**2 + \\theta_0**2*\\theta_1**2*f**2 + \\theta_0**2*\\theta_3**2*f**2 + \\theta_0**2*f**4 + \\theta_1**2*\\theta_3**2*f**2 + \\theta_1**2*f**4 + \\theta_3**2*f**4 + f**6)/(\\theta_0**2*\\theta_1**2*\\theta_2**2 - \\theta_0**2*\\theta_1**2*\\theta_3**2 - \\theta_0**2*\\theta_2**4 + \\theta_0**2*\\theta_2**2*\\theta_3**2 - \\theta_1**2*\\theta_2**4 + \\theta_1**2*\\theta_2**2*\\theta_3**2 + \\theta_2**6 - \\theta_2**4*\\theta_3**2)],\n",
       "[ f*(\\theta_0**2*\\theta_1**2*\\theta_2**2 + \\theta_0**2*\\theta_1**2*f**2 + \\theta_0**2*\\theta_2**2*f**2 + \\theta_0**2*f**4 + \\theta_1**2*\\theta_2**2*f**2 + \\theta_1**2*f**4 + \\theta_2**2*f**4 + f**6)/(\\theta_0**2*\\theta_1**2*\\theta_2**2 - \\theta_0**2*\\theta_1**2*\\theta_3**2 - \\theta_0**2*\\theta_2**2*\\theta_3**2 + \\theta_0**2*\\theta_3**4 - \\theta_1**2*\\theta_2**2*\\theta_3**2 + \\theta_1**2*\\theta_3**4 + \\theta_2**2*\\theta_3**4 - \\theta_3**6)]]))"
      ]
     },
     "execution_count": 42,
     "metadata": {},
     "output_type": "execute_result"
    }
   ],
   "source": [
    "eq1 = sp.Eq(_fs.T, 1/T.det() * (T.adjugate() @ _f.T))\n",
    "sp.simplify(eq1)"
   ]
  },
  {
   "cell_type": "code",
   "execution_count": 43,
   "metadata": {},
   "outputs": [
    {
     "data": {
      "text/latex": [
       "$\\displaystyle \\theta_0^{6} \\theta_1^{4} \\theta_2^{2} - \\theta_0^{6} \\theta_1^{4} \\theta_3^{2} - \\theta_0^{6} \\theta_1^{2} \\theta_2^{4} + \\theta_0^{6} \\theta_1^{2} \\theta_3^{4} + \\theta_0^{6} \\theta_2^{4} \\theta_3^{2} - \\theta_0^{6} \\theta_2^{2} \\theta_3^{4} - \\theta_0^{4} \\theta_1^{6} \\theta_2^{2} + \\theta_0^{4} \\theta_1^{6} \\theta_3^{2} + \\theta_0^{4} \\theta_1^{2} \\theta_2^{6} - \\theta_0^{4} \\theta_1^{2} \\theta_3^{6} - \\theta_0^{4} \\theta_2^{6} \\theta_3^{2} + \\theta_0^{4} \\theta_2^{2} \\theta_3^{6} + \\theta_0^{2} \\theta_1^{6} \\theta_2^{4} - \\theta_0^{2} \\theta_1^{6} \\theta_3^{4} - \\theta_0^{2} \\theta_1^{4} \\theta_2^{6} + \\theta_0^{2} \\theta_1^{4} \\theta_3^{6} + \\theta_0^{2} \\theta_2^{6} \\theta_3^{4} - \\theta_0^{2} \\theta_2^{4} \\theta_3^{6} - \\theta_1^{6} \\theta_2^{4} \\theta_3^{2} + \\theta_1^{6} \\theta_2^{2} \\theta_3^{4} + \\theta_1^{4} \\theta_2^{6} \\theta_3^{2} - \\theta_1^{4} \\theta_2^{2} \\theta_3^{6} - \\theta_1^{2} \\theta_2^{6} \\theta_3^{4} + \\theta_1^{2} \\theta_2^{4} \\theta_3^{6}$"
      ],
      "text/plain": [
       "\\theta_0**6*\\theta_1**4*\\theta_2**2 - \\theta_0**6*\\theta_1**4*\\theta_3**2 - \\theta_0**6*\\theta_1**2*\\theta_2**4 + \\theta_0**6*\\theta_1**2*\\theta_3**4 + \\theta_0**6*\\theta_2**4*\\theta_3**2 - \\theta_0**6*\\theta_2**2*\\theta_3**4 - \\theta_0**4*\\theta_1**6*\\theta_2**2 + \\theta_0**4*\\theta_1**6*\\theta_3**2 + \\theta_0**4*\\theta_1**2*\\theta_2**6 - \\theta_0**4*\\theta_1**2*\\theta_3**6 - \\theta_0**4*\\theta_2**6*\\theta_3**2 + \\theta_0**4*\\theta_2**2*\\theta_3**6 + \\theta_0**2*\\theta_1**6*\\theta_2**4 - \\theta_0**2*\\theta_1**6*\\theta_3**4 - \\theta_0**2*\\theta_1**4*\\theta_2**6 + \\theta_0**2*\\theta_1**4*\\theta_3**6 + \\theta_0**2*\\theta_2**6*\\theta_3**4 - \\theta_0**2*\\theta_2**4*\\theta_3**6 - \\theta_1**6*\\theta_2**4*\\theta_3**2 + \\theta_1**6*\\theta_2**2*\\theta_3**4 + \\theta_1**4*\\theta_2**6*\\theta_3**2 - \\theta_1**4*\\theta_2**2*\\theta_3**6 - \\theta_1**2*\\theta_2**6*\\theta_3**4 + \\theta_1**2*\\theta_2**4*\\theta_3**6"
      ]
     },
     "execution_count": 43,
     "metadata": {},
     "output_type": "execute_result"
    }
   ],
   "source": [
    "sp.simplify(T.det())"
   ]
  },
  {
   "cell_type": "code",
   "execution_count": 45,
   "metadata": {},
   "outputs": [
    {
     "data": {
      "text/latex": [
       "$\\displaystyle \\left[\\begin{matrix}- \\theta_1^{6} \\theta_2^{4} \\theta_3^{2} f - \\theta_1^{6} \\theta_2^{4} f^{3} + \\theta_1^{6} \\theta_2^{2} \\theta_3^{4} f - \\theta_1^{6} \\theta_2^{2} f^{5} + \\theta_1^{6} \\theta_3^{4} f^{3} + \\theta_1^{6} \\theta_3^{2} f^{5} + \\theta_1^{4} \\theta_2^{6} \\theta_3^{2} f + \\theta_1^{4} \\theta_2^{6} f^{3} - \\theta_1^{4} \\theta_2^{2} \\theta_3^{6} f - \\theta_1^{4} \\theta_2^{2} f^{7} - \\theta_1^{4} \\theta_3^{6} f^{3} + \\theta_1^{4} \\theta_3^{2} f^{7} - \\theta_1^{2} \\theta_2^{6} \\theta_3^{4} f + \\theta_1^{2} \\theta_2^{6} f^{5} + \\theta_1^{2} \\theta_2^{4} \\theta_3^{6} f + \\theta_1^{2} \\theta_2^{4} f^{7} - \\theta_1^{2} \\theta_3^{6} f^{5} - \\theta_1^{2} \\theta_3^{4} f^{7} - \\theta_2^{6} \\theta_3^{4} f^{3} - \\theta_2^{6} \\theta_3^{2} f^{5} + \\theta_2^{4} \\theta_3^{6} f^{3} - \\theta_2^{4} \\theta_3^{2} f^{7} + \\theta_2^{2} \\theta_3^{6} f^{5} + \\theta_2^{2} \\theta_3^{4} f^{7}\\\\\\theta_0^{6} \\theta_2^{4} \\theta_3^{2} f + \\theta_0^{6} \\theta_2^{4} f^{3} - \\theta_0^{6} \\theta_2^{2} \\theta_3^{4} f + \\theta_0^{6} \\theta_2^{2} f^{5} - \\theta_0^{6} \\theta_3^{4} f^{3} - \\theta_0^{6} \\theta_3^{2} f^{5} - \\theta_0^{4} \\theta_2^{6} \\theta_3^{2} f - \\theta_0^{4} \\theta_2^{6} f^{3} + \\theta_0^{4} \\theta_2^{2} \\theta_3^{6} f + \\theta_0^{4} \\theta_2^{2} f^{7} + \\theta_0^{4} \\theta_3^{6} f^{3} - \\theta_0^{4} \\theta_3^{2} f^{7} + \\theta_0^{2} \\theta_2^{6} \\theta_3^{4} f - \\theta_0^{2} \\theta_2^{6} f^{5} - \\theta_0^{2} \\theta_2^{4} \\theta_3^{6} f - \\theta_0^{2} \\theta_2^{4} f^{7} + \\theta_0^{2} \\theta_3^{6} f^{5} + \\theta_0^{2} \\theta_3^{4} f^{7} + \\theta_2^{6} \\theta_3^{4} f^{3} + \\theta_2^{6} \\theta_3^{2} f^{5} - \\theta_2^{4} \\theta_3^{6} f^{3} + \\theta_2^{4} \\theta_3^{2} f^{7} - \\theta_2^{2} \\theta_3^{6} f^{5} - \\theta_2^{2} \\theta_3^{4} f^{7}\\\\- \\theta_0^{6} \\theta_1^{4} \\theta_3^{2} f - \\theta_0^{6} \\theta_1^{4} f^{3} + \\theta_0^{6} \\theta_1^{2} \\theta_3^{4} f - \\theta_0^{6} \\theta_1^{2} f^{5} + \\theta_0^{6} \\theta_3^{4} f^{3} + \\theta_0^{6} \\theta_3^{2} f^{5} + \\theta_0^{4} \\theta_1^{6} \\theta_3^{2} f + \\theta_0^{4} \\theta_1^{6} f^{3} - \\theta_0^{4} \\theta_1^{2} \\theta_3^{6} f - \\theta_0^{4} \\theta_1^{2} f^{7} - \\theta_0^{4} \\theta_3^{6} f^{3} + \\theta_0^{4} \\theta_3^{2} f^{7} - \\theta_0^{2} \\theta_1^{6} \\theta_3^{4} f + \\theta_0^{2} \\theta_1^{6} f^{5} + \\theta_0^{2} \\theta_1^{4} \\theta_3^{6} f + \\theta_0^{2} \\theta_1^{4} f^{7} - \\theta_0^{2} \\theta_3^{6} f^{5} - \\theta_0^{2} \\theta_3^{4} f^{7} - \\theta_1^{6} \\theta_3^{4} f^{3} - \\theta_1^{6} \\theta_3^{2} f^{5} + \\theta_1^{4} \\theta_3^{6} f^{3} - \\theta_1^{4} \\theta_3^{2} f^{7} + \\theta_1^{2} \\theta_3^{6} f^{5} + \\theta_1^{2} \\theta_3^{4} f^{7}\\\\\\theta_0^{6} \\theta_1^{4} \\theta_2^{2} f + \\theta_0^{6} \\theta_1^{4} f^{3} - \\theta_0^{6} \\theta_1^{2} \\theta_2^{4} f + \\theta_0^{6} \\theta_1^{2} f^{5} - \\theta_0^{6} \\theta_2^{4} f^{3} - \\theta_0^{6} \\theta_2^{2} f^{5} - \\theta_0^{4} \\theta_1^{6} \\theta_2^{2} f - \\theta_0^{4} \\theta_1^{6} f^{3} + \\theta_0^{4} \\theta_1^{2} \\theta_2^{6} f + \\theta_0^{4} \\theta_1^{2} f^{7} + \\theta_0^{4} \\theta_2^{6} f^{3} - \\theta_0^{4} \\theta_2^{2} f^{7} + \\theta_0^{2} \\theta_1^{6} \\theta_2^{4} f - \\theta_0^{2} \\theta_1^{6} f^{5} - \\theta_0^{2} \\theta_1^{4} \\theta_2^{6} f - \\theta_0^{2} \\theta_1^{4} f^{7} + \\theta_0^{2} \\theta_2^{6} f^{5} + \\theta_0^{2} \\theta_2^{4} f^{7} + \\theta_1^{6} \\theta_2^{4} f^{3} + \\theta_1^{6} \\theta_2^{2} f^{5} - \\theta_1^{4} \\theta_2^{6} f^{3} + \\theta_1^{4} \\theta_2^{2} f^{7} - \\theta_1^{2} \\theta_2^{6} f^{5} - \\theta_1^{2} \\theta_2^{4} f^{7}\\end{matrix}\\right]$"
      ],
      "text/plain": [
       "Matrix([\n",
       "[-\\theta_1**6*\\theta_2**4*\\theta_3**2*f - \\theta_1**6*\\theta_2**4*f**3 + \\theta_1**6*\\theta_2**2*\\theta_3**4*f - \\theta_1**6*\\theta_2**2*f**5 + \\theta_1**6*\\theta_3**4*f**3 + \\theta_1**6*\\theta_3**2*f**5 + \\theta_1**4*\\theta_2**6*\\theta_3**2*f + \\theta_1**4*\\theta_2**6*f**3 - \\theta_1**4*\\theta_2**2*\\theta_3**6*f - \\theta_1**4*\\theta_2**2*f**7 - \\theta_1**4*\\theta_3**6*f**3 + \\theta_1**4*\\theta_3**2*f**7 - \\theta_1**2*\\theta_2**6*\\theta_3**4*f + \\theta_1**2*\\theta_2**6*f**5 + \\theta_1**2*\\theta_2**4*\\theta_3**6*f + \\theta_1**2*\\theta_2**4*f**7 - \\theta_1**2*\\theta_3**6*f**5 - \\theta_1**2*\\theta_3**4*f**7 - \\theta_2**6*\\theta_3**4*f**3 - \\theta_2**6*\\theta_3**2*f**5 + \\theta_2**4*\\theta_3**6*f**3 - \\theta_2**4*\\theta_3**2*f**7 + \\theta_2**2*\\theta_3**6*f**5 + \\theta_2**2*\\theta_3**4*f**7],\n",
       "[ \\theta_0**6*\\theta_2**4*\\theta_3**2*f + \\theta_0**6*\\theta_2**4*f**3 - \\theta_0**6*\\theta_2**2*\\theta_3**4*f + \\theta_0**6*\\theta_2**2*f**5 - \\theta_0**6*\\theta_3**4*f**3 - \\theta_0**6*\\theta_3**2*f**5 - \\theta_0**4*\\theta_2**6*\\theta_3**2*f - \\theta_0**4*\\theta_2**6*f**3 + \\theta_0**4*\\theta_2**2*\\theta_3**6*f + \\theta_0**4*\\theta_2**2*f**7 + \\theta_0**4*\\theta_3**6*f**3 - \\theta_0**4*\\theta_3**2*f**7 + \\theta_0**2*\\theta_2**6*\\theta_3**4*f - \\theta_0**2*\\theta_2**6*f**5 - \\theta_0**2*\\theta_2**4*\\theta_3**6*f - \\theta_0**2*\\theta_2**4*f**7 + \\theta_0**2*\\theta_3**6*f**5 + \\theta_0**2*\\theta_3**4*f**7 + \\theta_2**6*\\theta_3**4*f**3 + \\theta_2**6*\\theta_3**2*f**5 - \\theta_2**4*\\theta_3**6*f**3 + \\theta_2**4*\\theta_3**2*f**7 - \\theta_2**2*\\theta_3**6*f**5 - \\theta_2**2*\\theta_3**4*f**7],\n",
       "[-\\theta_0**6*\\theta_1**4*\\theta_3**2*f - \\theta_0**6*\\theta_1**4*f**3 + \\theta_0**6*\\theta_1**2*\\theta_3**4*f - \\theta_0**6*\\theta_1**2*f**5 + \\theta_0**6*\\theta_3**4*f**3 + \\theta_0**6*\\theta_3**2*f**5 + \\theta_0**4*\\theta_1**6*\\theta_3**2*f + \\theta_0**4*\\theta_1**6*f**3 - \\theta_0**4*\\theta_1**2*\\theta_3**6*f - \\theta_0**4*\\theta_1**2*f**7 - \\theta_0**4*\\theta_3**6*f**3 + \\theta_0**4*\\theta_3**2*f**7 - \\theta_0**2*\\theta_1**6*\\theta_3**4*f + \\theta_0**2*\\theta_1**6*f**5 + \\theta_0**2*\\theta_1**4*\\theta_3**6*f + \\theta_0**2*\\theta_1**4*f**7 - \\theta_0**2*\\theta_3**6*f**5 - \\theta_0**2*\\theta_3**4*f**7 - \\theta_1**6*\\theta_3**4*f**3 - \\theta_1**6*\\theta_3**2*f**5 + \\theta_1**4*\\theta_3**6*f**3 - \\theta_1**4*\\theta_3**2*f**7 + \\theta_1**2*\\theta_3**6*f**5 + \\theta_1**2*\\theta_3**4*f**7],\n",
       "[ \\theta_0**6*\\theta_1**4*\\theta_2**2*f + \\theta_0**6*\\theta_1**4*f**3 - \\theta_0**6*\\theta_1**2*\\theta_2**4*f + \\theta_0**6*\\theta_1**2*f**5 - \\theta_0**6*\\theta_2**4*f**3 - \\theta_0**6*\\theta_2**2*f**5 - \\theta_0**4*\\theta_1**6*\\theta_2**2*f - \\theta_0**4*\\theta_1**6*f**3 + \\theta_0**4*\\theta_1**2*\\theta_2**6*f + \\theta_0**4*\\theta_1**2*f**7 + \\theta_0**4*\\theta_2**6*f**3 - \\theta_0**4*\\theta_2**2*f**7 + \\theta_0**2*\\theta_1**6*\\theta_2**4*f - \\theta_0**2*\\theta_1**6*f**5 - \\theta_0**2*\\theta_1**4*\\theta_2**6*f - \\theta_0**2*\\theta_1**4*f**7 + \\theta_0**2*\\theta_2**6*f**5 + \\theta_0**2*\\theta_2**4*f**7 + \\theta_1**6*\\theta_2**4*f**3 + \\theta_1**6*\\theta_2**2*f**5 - \\theta_1**4*\\theta_2**6*f**3 + \\theta_1**4*\\theta_2**2*f**7 - \\theta_1**2*\\theta_2**6*f**5 - \\theta_1**2*\\theta_2**4*f**7]])"
      ]
     },
     "execution_count": 45,
     "metadata": {},
     "output_type": "execute_result"
    }
   ],
   "source": [
    "sp.expand(sp.simplify(T.adjugate() @ _f.T))"
   ]
  },
  {
   "cell_type": "code",
   "execution_count": null,
   "metadata": {},
   "outputs": [],
   "source": []
  }
 ],
 "metadata": {
  "kernelspec": {
   "display_name": "Python 3",
   "language": "python",
   "name": "python3"
  },
  "language_info": {
   "codemirror_mode": {
    "name": "ipython",
    "version": 3
   },
   "file_extension": ".py",
   "mimetype": "text/x-python",
   "name": "python",
   "nbconvert_exporter": "python",
   "pygments_lexer": "ipython3",
   "version": "3.8.3"
  }
 },
 "nbformat": 4,
 "nbformat_minor": 4
}
